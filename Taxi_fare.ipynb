{
  "nbformat": 4,
  "nbformat_minor": 0,
  "metadata": {
    "colab": {
      "name": "Taxi_fare.ipynb",
      "version": "0.3.2",
      "provenance": [],
      "toc_visible": true
    },
    "kernelspec": {
      "name": "python3",
      "display_name": "Python 3"
    }
  },
  "cells": [
    {
      "cell_type": "markdown",
      "metadata": {
        "id": "MYAoePHWcOkL",
        "colab_type": "text"
      },
      "source": [
        "#**Taxi Fare**\n",
        "\n",
        "---\n",
        "\n",
        "O objetivo dessa análise é : \n",
        "Encontrar o valor da corrida de taxi  "
      ]
    },
    {
      "cell_type": "markdown",
      "metadata": {
        "id": "3Blr8UQM28Aw",
        "colab_type": "text"
      },
      "source": [
        "# Importação dos Dados\n",
        "\n",
        "---\n",
        "\n"
      ]
    },
    {
      "cell_type": "markdown",
      "metadata": {
        "id": "ZfzlZ8273Gvv",
        "colab_type": "text"
      },
      "source": [
        "1- Instalar o kaggle para utilizar a api :"
      ]
    },
    {
      "cell_type": "code",
      "metadata": {
        "id": "Ng2iISEFQzOi",
        "colab_type": "code",
        "outputId": "790d6dde-2691-4584-b30f-f2ddfdcd42f8",
        "colab": {
          "base_uri": "https://localhost:8080/",
          "height": 224
        }
      },
      "source": [
        "!pip install kaggle"
      ],
      "execution_count": 2,
      "outputs": [
        {
          "output_type": "stream",
          "text": [
            "Requirement already satisfied: kaggle in /usr/local/lib/python3.6/dist-packages (1.5.3)\n",
            "Requirement already satisfied: tqdm in /usr/local/lib/python3.6/dist-packages (from kaggle) (4.28.1)\n",
            "Requirement already satisfied: urllib3<1.25,>=1.21.1 in /usr/local/lib/python3.6/dist-packages (from kaggle) (1.24.2)\n",
            "Requirement already satisfied: python-slugify in /usr/local/lib/python3.6/dist-packages (from kaggle) (3.0.2)\n",
            "Requirement already satisfied: python-dateutil in /usr/local/lib/python3.6/dist-packages (from kaggle) (2.5.3)\n",
            "Requirement already satisfied: six>=1.10 in /usr/local/lib/python3.6/dist-packages (from kaggle) (1.12.0)\n",
            "Requirement already satisfied: certifi in /usr/local/lib/python3.6/dist-packages (from kaggle) (2019.3.9)\n",
            "Requirement already satisfied: requests in /usr/local/lib/python3.6/dist-packages (from kaggle) (2.21.0)\n",
            "Requirement already satisfied: text-unidecode==1.2 in /usr/local/lib/python3.6/dist-packages (from python-slugify->kaggle) (1.2)\n",
            "Requirement already satisfied: chardet<3.1.0,>=3.0.2 in /usr/local/lib/python3.6/dist-packages (from requests->kaggle) (3.0.4)\n",
            "Requirement already satisfied: idna<2.9,>=2.5 in /usr/local/lib/python3.6/dist-packages (from requests->kaggle) (2.8)\n"
          ],
          "name": "stdout"
        }
      ]
    },
    {
      "cell_type": "markdown",
      "metadata": {
        "id": "Ferni2N93O8N",
        "colab_type": "text"
      },
      "source": [
        "Agora é preciso passar as credenciais que estão no arquivo Kaggle.json :"
      ]
    },
    {
      "cell_type": "code",
      "metadata": {
        "id": "7lMtWr3udPyN",
        "colab_type": "code",
        "outputId": "c30ea5fe-4839-4d81-9463-c6e90a7539e5",
        "colab": {
          "resources": {
            "http://localhost:8080/nbextensions/google.colab/files.js": {
              "data": "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",
              "ok": true,
              "headers": [
                [
                  "content-type",
                  "application/javascript"
                ]
              ],
              "status": 200,
              "status_text": ""
            }
          },
          "base_uri": "https://localhost:8080/",
          "height": 91
        }
      },
      "source": [
        "from google.colab import files\n",
        "files.upload()"
      ],
      "execution_count": 3,
      "outputs": [
        {
          "output_type": "display_data",
          "data": {
            "text/html": [
              "\n",
              "     <input type=\"file\" id=\"files-6a05ed05-a5d5-4200-bd73-a72ee6a1efce\" name=\"files[]\" multiple disabled />\n",
              "     <output id=\"result-6a05ed05-a5d5-4200-bd73-a72ee6a1efce\">\n",
              "      Upload widget is only available when the cell has been executed in the\n",
              "      current browser session. Please rerun this cell to enable.\n",
              "      </output>\n",
              "      <script src=\"/nbextensions/google.colab/files.js\"></script> "
            ],
            "text/plain": [
              "<IPython.core.display.HTML object>"
            ]
          },
          "metadata": {
            "tags": []
          }
        },
        {
          "output_type": "stream",
          "text": [
            "Saving kaggle.json to kaggle.json\n"
          ],
          "name": "stdout"
        },
        {
          "output_type": "execute_result",
          "data": {
            "text/plain": [
              "{'kaggle.json': b'{\"username\":\"lyon14br\",\"key\":\"39b015f85c81c7841829b1adc868ea0b\"}'}"
            ]
          },
          "metadata": {
            "tags": []
          },
          "execution_count": 3
        }
      ]
    },
    {
      "cell_type": "markdown",
      "metadata": {
        "id": "TVjW6s8j3r5w",
        "colab_type": "text"
      },
      "source": [
        "É preciso mover o arquivo para o .kaggle :"
      ]
    },
    {
      "cell_type": "code",
      "metadata": {
        "id": "TKQRu92Adfkk",
        "colab_type": "code",
        "colab": {}
      },
      "source": [
        "!mkdir -p ~/.kaggle\n",
        "!cp kaggle.json ~/.kaggle/kaggle.json"
      ],
      "execution_count": 0,
      "outputs": []
    },
    {
      "cell_type": "markdown",
      "metadata": {
        "id": "VQ7Fr7564EG-",
        "colab_type": "text"
      },
      "source": [
        "Para tirar os warning é preciso dar permissão :"
      ]
    },
    {
      "cell_type": "code",
      "metadata": {
        "id": "JRRqqQIJXxJQ",
        "colab_type": "code",
        "colab": {}
      },
      "source": [
        "!chmod 600 ~/.kaggle/kaggle.json"
      ],
      "execution_count": 0,
      "outputs": []
    },
    {
      "cell_type": "markdown",
      "metadata": {
        "id": "XwCHGn5t4OJY",
        "colab_type": "text"
      },
      "source": [
        "Agora basta importar os arquivos do kaggle, para isso é necessário copiar o link no campo \n",
        "api da competição : "
      ]
    },
    {
      "cell_type": "code",
      "metadata": {
        "id": "15ErRxAVeK1y",
        "colab_type": "code",
        "outputId": "c6f62a2a-19c2-42e1-8da9-942dd7002942",
        "colab": {
          "base_uri": "https://localhost:8080/",
          "height": 221
        }
      },
      "source": [
        "!kaggle competitions download -c new-york-city-taxi-fare-prediction"
      ],
      "execution_count": 6,
      "outputs": [
        {
          "output_type": "stream",
          "text": [
            "Downloading sample_submission.csv to /content\n",
            "\r  0% 0.00/335k [00:00<?, ?B/s]\n",
            "100% 335k/335k [00:00<00:00, 49.7MB/s]\n",
            "Downloading test.csv to /content\n",
            "  0% 0.00/960k [00:00<?, ?B/s]\n",
            "100% 960k/960k [00:00<00:00, 62.2MB/s]\n",
            "Downloading train.csv.zip to /content\n",
            " 99% 1.55G/1.56G [00:19<00:00, 93.8MB/s]\n",
            "100% 1.56G/1.56G [00:19<00:00, 85.1MB/s]\n",
            "Downloading GCP-Coupons-Instructions.rtf to /content\n",
            "  0% 0.00/486 [00:00<?, ?B/s]\n",
            "100% 486/486 [00:00<00:00, 344kB/s]\n"
          ],
          "name": "stdout"
        }
      ]
    },
    {
      "cell_type": "markdown",
      "metadata": {
        "id": "daSQJtUP4jxM",
        "colab_type": "text"
      },
      "source": [
        "Para ter certeza se todos os passos anteriores funcionaram, utilize ''!ls' para mostrar a pasta com os arquivo : "
      ]
    },
    {
      "cell_type": "code",
      "metadata": {
        "id": "-MGJxPENelKX",
        "colab_type": "code",
        "outputId": "a830ca65-6f3d-46e5-ce8c-67e981f1ac80",
        "colab": {
          "base_uri": "https://localhost:8080/",
          "height": 51
        }
      },
      "source": [
        "!ls"
      ],
      "execution_count": 7,
      "outputs": [
        {
          "output_type": "stream",
          "text": [
            "chatbot.txt\t\t      kaggle.json  sample_submission.csv  train.csv.zip\n",
            "GCP-Coupons-Instructions.rtf  sample_data  test.csv\n"
          ],
          "name": "stdout"
        }
      ]
    },
    {
      "cell_type": "markdown",
      "metadata": {
        "id": "G8jg1Xds46f9",
        "colab_type": "text"
      },
      "source": [
        "Como o arquivo train.csv.zip está ziapdo é preciso descompactar o mesmo :"
      ]
    },
    {
      "cell_type": "code",
      "metadata": {
        "id": "TF7JYL10e6Ij",
        "colab_type": "code",
        "outputId": "dcd52713-22e6-400d-934d-fb50d3c6d5b6",
        "colab": {
          "base_uri": "https://localhost:8080/",
          "height": 51
        }
      },
      "source": [
        "!unzip train.csv.zip"
      ],
      "execution_count": 8,
      "outputs": [
        {
          "output_type": "stream",
          "text": [
            "Archive:  train.csv.zip\n",
            "  inflating: train.csv               \n"
          ],
          "name": "stdout"
        }
      ]
    },
    {
      "cell_type": "markdown",
      "metadata": {
        "id": "a9LD738Z7fGB",
        "colab_type": "text"
      },
      "source": [
        "# Explorando os dados\n",
        "\n",
        "---\n",
        "\n"
      ]
    },
    {
      "cell_type": "markdown",
      "metadata": {
        "id": "K-okPoI97uxY",
        "colab_type": "text"
      },
      "source": [
        "Bibliotecas a serem utilizadas : "
      ]
    },
    {
      "cell_type": "code",
      "metadata": {
        "id": "FyUbl7V9vlgc",
        "colab_type": "code",
        "colab": {}
      },
      "source": [
        "import pandas as pd \n",
        "import numpy as np\n",
        "import matplotlib.pyplot as plt\n",
        "import seaborn as sns \n",
        "from sklearn import linear_model\n",
        "from sklearn.model_selection import GridSearchCV\n",
        "from sklearn.model_selection import train_test_split\n",
        "from sklearn.linear_model import LinearRegression"
      ],
      "execution_count": 0,
      "outputs": []
    },
    {
      "cell_type": "markdown",
      "metadata": {
        "id": "eq5XRkvS9BqF",
        "colab_type": "text"
      },
      "source": [
        "Como o dataset é extremamente grande é preciso diminuir o tamanho a ser passado para o data frame, por isso que p chucksize possue apenas 5 milhões de dados : "
      ]
    },
    {
      "cell_type": "code",
      "metadata": {
        "id": "taFBZjaKibjs",
        "colab_type": "code",
        "colab": {}
      },
      "source": [
        "chucksize = 5*10**6\n",
        "train = pd.read_csv('train.csv', nrows =  chucksize)\n"
      ],
      "execution_count": 0,
      "outputs": []
    },
    {
      "cell_type": "markdown",
      "metadata": {
        "id": "e0GsPv2d9Yll",
        "colab_type": "text"
      },
      "source": [
        "Aqui é possível ver como é o formato dos Dados : "
      ]
    },
    {
      "cell_type": "code",
      "metadata": {
        "id": "47E50vL-1xzw",
        "colab_type": "code",
        "outputId": "22822bad-3e32-47e4-f684-05f115911e0a",
        "colab": {
          "base_uri": "https://localhost:8080/",
          "height": 326
        }
      },
      "source": [
        "print(\"shape pf train data \",train.shape)\n",
        "train.head()"
      ],
      "execution_count": 11,
      "outputs": [
        {
          "output_type": "stream",
          "text": [
            "shape pf train data  (5000000, 8)\n"
          ],
          "name": "stdout"
        },
        {
          "output_type": "execute_result",
          "data": {
            "text/html": [
              "<div>\n",
              "<style scoped>\n",
              "    .dataframe tbody tr th:only-of-type {\n",
              "        vertical-align: middle;\n",
              "    }\n",
              "\n",
              "    .dataframe tbody tr th {\n",
              "        vertical-align: top;\n",
              "    }\n",
              "\n",
              "    .dataframe thead th {\n",
              "        text-align: right;\n",
              "    }\n",
              "</style>\n",
              "<table border=\"1\" class=\"dataframe\">\n",
              "  <thead>\n",
              "    <tr style=\"text-align: right;\">\n",
              "      <th></th>\n",
              "      <th>key</th>\n",
              "      <th>fare_amount</th>\n",
              "      <th>pickup_datetime</th>\n",
              "      <th>pickup_longitude</th>\n",
              "      <th>pickup_latitude</th>\n",
              "      <th>dropoff_longitude</th>\n",
              "      <th>dropoff_latitude</th>\n",
              "      <th>passenger_count</th>\n",
              "    </tr>\n",
              "  </thead>\n",
              "  <tbody>\n",
              "    <tr>\n",
              "      <th>0</th>\n",
              "      <td>2009-06-15 17:26:21.0000001</td>\n",
              "      <td>4.5</td>\n",
              "      <td>2009-06-15 17:26:21 UTC</td>\n",
              "      <td>-73.844311</td>\n",
              "      <td>40.721319</td>\n",
              "      <td>-73.841610</td>\n",
              "      <td>40.712278</td>\n",
              "      <td>1</td>\n",
              "    </tr>\n",
              "    <tr>\n",
              "      <th>1</th>\n",
              "      <td>2010-01-05 16:52:16.0000002</td>\n",
              "      <td>16.9</td>\n",
              "      <td>2010-01-05 16:52:16 UTC</td>\n",
              "      <td>-74.016048</td>\n",
              "      <td>40.711303</td>\n",
              "      <td>-73.979268</td>\n",
              "      <td>40.782004</td>\n",
              "      <td>1</td>\n",
              "    </tr>\n",
              "    <tr>\n",
              "      <th>2</th>\n",
              "      <td>2011-08-18 00:35:00.00000049</td>\n",
              "      <td>5.7</td>\n",
              "      <td>2011-08-18 00:35:00 UTC</td>\n",
              "      <td>-73.982738</td>\n",
              "      <td>40.761270</td>\n",
              "      <td>-73.991242</td>\n",
              "      <td>40.750562</td>\n",
              "      <td>2</td>\n",
              "    </tr>\n",
              "    <tr>\n",
              "      <th>3</th>\n",
              "      <td>2012-04-21 04:30:42.0000001</td>\n",
              "      <td>7.7</td>\n",
              "      <td>2012-04-21 04:30:42 UTC</td>\n",
              "      <td>-73.987130</td>\n",
              "      <td>40.733143</td>\n",
              "      <td>-73.991567</td>\n",
              "      <td>40.758092</td>\n",
              "      <td>1</td>\n",
              "    </tr>\n",
              "    <tr>\n",
              "      <th>4</th>\n",
              "      <td>2010-03-09 07:51:00.000000135</td>\n",
              "      <td>5.3</td>\n",
              "      <td>2010-03-09 07:51:00 UTC</td>\n",
              "      <td>-73.968095</td>\n",
              "      <td>40.768008</td>\n",
              "      <td>-73.956655</td>\n",
              "      <td>40.783762</td>\n",
              "      <td>1</td>\n",
              "    </tr>\n",
              "  </tbody>\n",
              "</table>\n",
              "</div>"
            ],
            "text/plain": [
              "                             key  fare_amount          pickup_datetime  \\\n",
              "0    2009-06-15 17:26:21.0000001          4.5  2009-06-15 17:26:21 UTC   \n",
              "1    2010-01-05 16:52:16.0000002         16.9  2010-01-05 16:52:16 UTC   \n",
              "2   2011-08-18 00:35:00.00000049          5.7  2011-08-18 00:35:00 UTC   \n",
              "3    2012-04-21 04:30:42.0000001          7.7  2012-04-21 04:30:42 UTC   \n",
              "4  2010-03-09 07:51:00.000000135          5.3  2010-03-09 07:51:00 UTC   \n",
              "\n",
              "   pickup_longitude  pickup_latitude  dropoff_longitude  dropoff_latitude  \\\n",
              "0        -73.844311        40.721319         -73.841610         40.712278   \n",
              "1        -74.016048        40.711303         -73.979268         40.782004   \n",
              "2        -73.982738        40.761270         -73.991242         40.750562   \n",
              "3        -73.987130        40.733143         -73.991567         40.758092   \n",
              "4        -73.968095        40.768008         -73.956655         40.783762   \n",
              "\n",
              "   passenger_count  \n",
              "0                1  \n",
              "1                1  \n",
              "2                2  \n",
              "3                1  \n",
              "4                1  "
            ]
          },
          "metadata": {
            "tags": []
          },
          "execution_count": 11
        }
      ]
    },
    {
      "cell_type": "markdown",
      "metadata": {
        "id": "cFblppkR9hK2",
        "colab_type": "text"
      },
      "source": [
        "Em seguida os tipos de cada coluna do dataset"
      ]
    },
    {
      "cell_type": "code",
      "metadata": {
        "id": "wqu6gy0_2FKC",
        "colab_type": "code",
        "outputId": "b20dfafb-2bcb-47af-da83-f41efdae24f2",
        "colab": {
          "base_uri": "https://localhost:8080/",
          "height": 170
        }
      },
      "source": [
        "train.dtypes"
      ],
      "execution_count": 12,
      "outputs": [
        {
          "output_type": "execute_result",
          "data": {
            "text/plain": [
              "key                   object\n",
              "fare_amount          float64\n",
              "pickup_datetime       object\n",
              "pickup_longitude     float64\n",
              "pickup_latitude      float64\n",
              "dropoff_longitude    float64\n",
              "dropoff_latitude     float64\n",
              "passenger_count        int64\n",
              "dtype: object"
            ]
          },
          "metadata": {
            "tags": []
          },
          "execution_count": 12
        }
      ]
    },
    {
      "cell_type": "markdown",
      "metadata": {
        "id": "WGmHFRNH_Bra",
        "colab_type": "text"
      },
      "source": [
        "O describe mostra as principais estátisticas do dataset, onde é possivel ter uma ídeia melhor sobre o que está acontecendo com os dados."
      ]
    },
    {
      "cell_type": "code",
      "metadata": {
        "id": "axe7aNVX2PtT",
        "colab_type": "code",
        "outputId": "de984b68-2970-42f3-9192-3f2281a9cb95",
        "colab": {
          "base_uri": "https://localhost:8080/",
          "height": 297
        }
      },
      "source": [
        "train.describe()"
      ],
      "execution_count": 13,
      "outputs": [
        {
          "output_type": "execute_result",
          "data": {
            "text/html": [
              "<div>\n",
              "<style scoped>\n",
              "    .dataframe tbody tr th:only-of-type {\n",
              "        vertical-align: middle;\n",
              "    }\n",
              "\n",
              "    .dataframe tbody tr th {\n",
              "        vertical-align: top;\n",
              "    }\n",
              "\n",
              "    .dataframe thead th {\n",
              "        text-align: right;\n",
              "    }\n",
              "</style>\n",
              "<table border=\"1\" class=\"dataframe\">\n",
              "  <thead>\n",
              "    <tr style=\"text-align: right;\">\n",
              "      <th></th>\n",
              "      <th>fare_amount</th>\n",
              "      <th>pickup_longitude</th>\n",
              "      <th>pickup_latitude</th>\n",
              "      <th>dropoff_longitude</th>\n",
              "      <th>dropoff_latitude</th>\n",
              "      <th>passenger_count</th>\n",
              "    </tr>\n",
              "  </thead>\n",
              "  <tbody>\n",
              "    <tr>\n",
              "      <th>count</th>\n",
              "      <td>5.000000e+06</td>\n",
              "      <td>5.000000e+06</td>\n",
              "      <td>5.000000e+06</td>\n",
              "      <td>4.999964e+06</td>\n",
              "      <td>4.999964e+06</td>\n",
              "      <td>5.000000e+06</td>\n",
              "    </tr>\n",
              "    <tr>\n",
              "      <th>mean</th>\n",
              "      <td>1.134080e+01</td>\n",
              "      <td>-7.250678e+01</td>\n",
              "      <td>3.991974e+01</td>\n",
              "      <td>-7.250652e+01</td>\n",
              "      <td>3.991725e+01</td>\n",
              "      <td>1.684695e+00</td>\n",
              "    </tr>\n",
              "    <tr>\n",
              "      <th>std</th>\n",
              "      <td>9.820175e+00</td>\n",
              "      <td>1.280970e+01</td>\n",
              "      <td>8.963509e+00</td>\n",
              "      <td>1.284777e+01</td>\n",
              "      <td>9.486767e+00</td>\n",
              "      <td>1.331854e+00</td>\n",
              "    </tr>\n",
              "    <tr>\n",
              "      <th>min</th>\n",
              "      <td>-1.000000e+02</td>\n",
              "      <td>-3.426609e+03</td>\n",
              "      <td>-3.488080e+03</td>\n",
              "      <td>-3.412653e+03</td>\n",
              "      <td>-3.488080e+03</td>\n",
              "      <td>0.000000e+00</td>\n",
              "    </tr>\n",
              "    <tr>\n",
              "      <th>25%</th>\n",
              "      <td>6.000000e+00</td>\n",
              "      <td>-7.399206e+01</td>\n",
              "      <td>4.073491e+01</td>\n",
              "      <td>-7.399139e+01</td>\n",
              "      <td>4.073404e+01</td>\n",
              "      <td>1.000000e+00</td>\n",
              "    </tr>\n",
              "    <tr>\n",
              "      <th>50%</th>\n",
              "      <td>8.500000e+00</td>\n",
              "      <td>-7.398181e+01</td>\n",
              "      <td>4.075263e+01</td>\n",
              "      <td>-7.398016e+01</td>\n",
              "      <td>4.075315e+01</td>\n",
              "      <td>1.000000e+00</td>\n",
              "    </tr>\n",
              "    <tr>\n",
              "      <th>75%</th>\n",
              "      <td>1.250000e+01</td>\n",
              "      <td>-7.396711e+01</td>\n",
              "      <td>4.076712e+01</td>\n",
              "      <td>-7.396367e+01</td>\n",
              "      <td>4.076811e+01</td>\n",
              "      <td>2.000000e+00</td>\n",
              "    </tr>\n",
              "    <tr>\n",
              "      <th>max</th>\n",
              "      <td>1.273310e+03</td>\n",
              "      <td>3.439426e+03</td>\n",
              "      <td>3.310364e+03</td>\n",
              "      <td>3.457622e+03</td>\n",
              "      <td>3.345917e+03</td>\n",
              "      <td>2.080000e+02</td>\n",
              "    </tr>\n",
              "  </tbody>\n",
              "</table>\n",
              "</div>"
            ],
            "text/plain": [
              "        fare_amount  pickup_longitude  pickup_latitude  dropoff_longitude  \\\n",
              "count  5.000000e+06      5.000000e+06     5.000000e+06       4.999964e+06   \n",
              "mean   1.134080e+01     -7.250678e+01     3.991974e+01      -7.250652e+01   \n",
              "std    9.820175e+00      1.280970e+01     8.963509e+00       1.284777e+01   \n",
              "min   -1.000000e+02     -3.426609e+03    -3.488080e+03      -3.412653e+03   \n",
              "25%    6.000000e+00     -7.399206e+01     4.073491e+01      -7.399139e+01   \n",
              "50%    8.500000e+00     -7.398181e+01     4.075263e+01      -7.398016e+01   \n",
              "75%    1.250000e+01     -7.396711e+01     4.076712e+01      -7.396367e+01   \n",
              "max    1.273310e+03      3.439426e+03     3.310364e+03       3.457622e+03   \n",
              "\n",
              "       dropoff_latitude  passenger_count  \n",
              "count      4.999964e+06     5.000000e+06  \n",
              "mean       3.991725e+01     1.684695e+00  \n",
              "std        9.486767e+00     1.331854e+00  \n",
              "min       -3.488080e+03     0.000000e+00  \n",
              "25%        4.073404e+01     1.000000e+00  \n",
              "50%        4.075315e+01     1.000000e+00  \n",
              "75%        4.076811e+01     2.000000e+00  \n",
              "max        3.345917e+03     2.080000e+02  "
            ]
          },
          "metadata": {
            "tags": []
          },
          "execution_count": 13
        }
      ]
    },
    {
      "cell_type": "markdown",
      "metadata": {
        "id": "d-cZ1kqw9vW4",
        "colab_type": "text"
      },
      "source": [
        "Os Estados unidos possuem um limite de pessoas a serem levados em um táxi. Por isso é necessário remover todos os dados que não atende a esses parametro. \n",
        "Como o numero maximo de passageiro utrapassa 200 passageiros é notável que isso se trata de lixo, que deve ser removido. "
      ]
    },
    {
      "cell_type": "code",
      "metadata": {
        "id": "XHGCU9kTgN0L",
        "colab_type": "code",
        "outputId": "e3a597d5-5b63-4087-e9b6-583bed392942",
        "colab": {
          "base_uri": "https://localhost:8080/",
          "height": 51
        }
      },
      "source": [
        "print('Tamanho antigo %d' % len(train))\n",
        "train = train[(train['passenger_count']<=7)]\n",
        "print('Novo tamanho %d depois de limitar os passageiros a 7' % len(train))\n"
      ],
      "execution_count": 14,
      "outputs": [
        {
          "output_type": "stream",
          "text": [
            "Tamanho antigo 5000000\n",
            "Novo tamanho 4999989 depois de limitar os passageiros a 7\n"
          ],
          "name": "stdout"
        }
      ]
    },
    {
      "cell_type": "markdown",
      "metadata": {
        "id": "Aubj_D8W-efr",
        "colab_type": "text"
      },
      "source": [
        "Quando não tem passageiro no táxi também deve ser considerado um lixo, já que não faz sentido cobrar um corrida para ninguem. "
      ]
    },
    {
      "cell_type": "code",
      "metadata": {
        "id": "ci8IApiG9cmu",
        "colab_type": "code",
        "outputId": "0792d418-7d98-4cf5-fa56-930b33bc1001",
        "colab": {
          "base_uri": "https://localhost:8080/",
          "height": 51
        }
      },
      "source": [
        "print('Tamanho antigo %d' % len(train))\n",
        "train = train[(train['passenger_count']>0)]\n",
        "print('Novo tamanho %d depois de limitar a ter passageiros' % len(train))"
      ],
      "execution_count": 15,
      "outputs": [
        {
          "output_type": "stream",
          "text": [
            "Tamanho antigo 4999989\n",
            "Novo tamanho 4982350 depois de limitar a ter passageiros\n"
          ],
          "name": "stdout"
        }
      ]
    },
    {
      "cell_type": "markdown",
      "metadata": {
        "id": "e_VQuqg__blU",
        "colab_type": "text"
      },
      "source": [
        "Outro fator importante é remover os valores negativos e abaixo da tarifa minima que segunda as lei em Nova Iork : "
      ]
    },
    {
      "cell_type": "markdown",
      "metadata": {
        "id": "FxN2C423WjmD",
        "colab_type": "text"
      },
      "source": [
        "**Tarifa em NY**\n",
        "\n",
        "---\n",
        "\n",
        "\n",
        "\n",
        "\n",
        "*   Tarifa minima: $2.50.\n",
        "\n",
        "*   $1.56 por kilometro.  \n",
        "\n",
        "*   Para cada minuto esperando ( ou enquanto move-se a menos de 20 km/h): $0.50.\n",
        "\n",
        "*   Taxa da cidade: $0.50\n",
        "\n",
        "*   Noite (entre 8 pm as 6 am): $0.50.\n",
        "\n",
        "*   horario de pico (entre 4 pm as 8 pm): $1\n",
        "\n",
        "\n"
      ]
    },
    {
      "cell_type": "code",
      "metadata": {
        "id": "RwLFbzqDVsMY",
        "colab_type": "code",
        "outputId": "c871303f-691e-4441-8ad0-5eac81aae99a",
        "colab": {
          "base_uri": "https://localhost:8080/",
          "height": 51
        }
      },
      "source": [
        "print('Tamanho antigo %d' % len(train))\n",
        "train = train[(train['fare_amount']>=2.5)]\n",
        "print('Novo tamanho %d para taxis com valor da corrida minima ' % len(train))"
      ],
      "execution_count": 16,
      "outputs": [
        {
          "output_type": "stream",
          "text": [
            "Tamanho antigo 4982350\n",
            "Novo tamanho 4981942 para taxis com valor da corrida minima \n"
          ],
          "name": "stdout"
        }
      ]
    },
    {
      "cell_type": "markdown",
      "metadata": {
        "id": "Lv4dGtzmAFz7",
        "colab_type": "text"
      },
      "source": [
        "Para qualquer dataset é de extrema importancia não ter dados nulo, por isso é preciso saber se existe ocorrência dentro do Dataset:"
      ]
    },
    {
      "cell_type": "code",
      "metadata": {
        "id": "w-q2__ZP2QGp",
        "colab_type": "code",
        "outputId": "43dcefbe-9b27-438b-a9be-e2d890f50fa6",
        "colab": {
          "base_uri": "https://localhost:8080/",
          "height": 170
        }
      },
      "source": [
        "train.isnull().sum()"
      ],
      "execution_count": 17,
      "outputs": [
        {
          "output_type": "execute_result",
          "data": {
            "text/plain": [
              "key                  0\n",
              "fare_amount          0\n",
              "pickup_datetime      0\n",
              "pickup_longitude     0\n",
              "pickup_latitude      0\n",
              "dropoff_longitude    0\n",
              "dropoff_latitude     0\n",
              "passenger_count      0\n",
              "dtype: int64"
            ]
          },
          "metadata": {
            "tags": []
          },
          "execution_count": 17
        }
      ]
    },
    {
      "cell_type": "markdown",
      "metadata": {
        "id": "RkuNc53GAhwi",
        "colab_type": "text"
      },
      "source": [
        "Se o taxi começou e terminou no mesmo lugar estarei considerando parado, por isso esse dado não me é importante :\n"
      ]
    },
    {
      "cell_type": "code",
      "metadata": {
        "id": "dRxcQnIY2QSL",
        "colab_type": "code",
        "outputId": "b6f2cb91-81dc-4ea2-ae9b-756905fc3db0",
        "colab": {
          "base_uri": "https://localhost:8080/",
          "height": 51
        }
      },
      "source": [
        "print('Tamnho antigo %d '%len(train))\n",
        "train=train[(train['pickup_longitude']!=train['dropoff_longitude'])&(train['pickup_latitude']!=train['dropoff_latitude'])]\n",
        "print(\"Tamanho novo %d apos remover casos parado\"%len(train))"
      ],
      "execution_count": 18,
      "outputs": [
        {
          "output_type": "stream",
          "text": [
            "Tamnho antigo 4981942 \n",
            "Tamanho novo 4837300 apos remover casos parado\n"
          ],
          "name": "stdout"
        }
      ]
    },
    {
      "cell_type": "markdown",
      "metadata": {
        "id": "rPi_Lg27-z4I",
        "colab_type": "text"
      },
      "source": [
        "Um fator muito importante que deve ser levado em consideração são as duplicatas, se em um data frame existir dados exatamente iguais isso pode inviabilizar o modelo. Por esse motivo é importante verificar se existe ocorrência de duplicatas  e se existir retiralas com drop_duplicates(): "
      ]
    },
    {
      "cell_type": "code",
      "metadata": {
        "id": "kOSlJu0bGI8w",
        "colab_type": "code",
        "outputId": "c308729e-aafd-4c04-9d84-510eb3ad193a",
        "colab": {
          "base_uri": "https://localhost:8080/",
          "height": 34
        }
      },
      "source": [
        "print(train.duplicated().sum())"
      ],
      "execution_count": 19,
      "outputs": [
        {
          "output_type": "stream",
          "text": [
            "0\n"
          ],
          "name": "stdout"
        }
      ]
    },
    {
      "cell_type": "markdown",
      "metadata": {
        "id": "gtWF2qLGBEEg",
        "colab_type": "text"
      },
      "source": [
        "Uma relação do preço da corrida de táxi com a frequencia para corridas menores que $100 :"
      ]
    },
    {
      "cell_type": "code",
      "metadata": {
        "id": "C2TgM-iJEPsy",
        "colab_type": "code",
        "outputId": "882b47e2-e9f3-431d-fb45-5d95a20d5f7d",
        "colab": {
          "base_uri": "https://localhost:8080/",
          "height": 537
        }
      },
      "source": [
        "train[train.fare_amount<100].fare_amount.hist(bins=100,figsize = (16,8))\n",
        "plt.xlabel('Preço')\n",
        "plt.ylabel('Frequencia')"
      ],
      "execution_count": 20,
      "outputs": [
        {
          "output_type": "execute_result",
          "data": {
            "text/plain": [
              "Text(0, 0.5, 'Frequencia')"
            ]
          },
          "metadata": {
            "tags": []
          },
          "execution_count": 20
        },
        {
          "output_type": "display_data",
          "data": {
            "image/png": "[encoded data removed]",
            "text/plain": [
              "<Figure size 1152x576 with 1 Axes>"
            ]
          },
          "metadata": {
            "tags": []
          }
        }
      ]
    },
    {
      "cell_type": "markdown",
      "metadata": {
        "id": "RfWedWHaDP6o",
        "colab_type": "text"
      },
      "source": [
        "De qualquer forma existem alguns casos em que o valor utrapassa os $100 : "
      ]
    },
    {
      "cell_type": "code",
      "metadata": {
        "id": "q7ntjO97EScH",
        "colab_type": "code",
        "outputId": "e0387912-7575-4c9e-84dd-a7b73eb3c419",
        "colab": {
          "base_uri": "https://localhost:8080/",
          "height": 34
        }
      },
      "source": [
        "train[train.fare_amount>100].shape"
      ],
      "execution_count": 21,
      "outputs": [
        {
          "output_type": "execute_result",
          "data": {
            "text/plain": [
              "(1559, 8)"
            ]
          },
          "metadata": {
            "tags": []
          },
          "execution_count": 21
        }
      ]
    },
    {
      "cell_type": "markdown",
      "metadata": {
        "id": "ze8eDASZDg8T",
        "colab_type": "text"
      },
      "source": [
        "O gráfico a seguir mostras os casos para o preço acima de $100 :"
      ]
    },
    {
      "cell_type": "code",
      "metadata": {
        "id": "lIKFeRLGESja",
        "colab_type": "code",
        "outputId": "466a8dd2-7fd9-49ce-c884-beee0bb1204c",
        "colab": {
          "base_uri": "https://localhost:8080/",
          "height": 537
        }
      },
      "source": [
        "train[train.fare_amount>100].fare_amount.hist(bins=100,figsize=(16,8))\n",
        "plt.xlabel('Preço')\n",
        "plt.ylabel('Frequencia')"
      ],
      "execution_count": 22,
      "outputs": [
        {
          "output_type": "execute_result",
          "data": {
            "text/plain": [
              "Text(0, 0.5, 'Frequencia')"
            ]
          },
          "metadata": {
            "tags": []
          },
          "execution_count": 22
        },
        {
          "output_type": "display_data",
          "data": {
            "image/png": "[encoded data removed]",
            "text/plain": [
              "<Figure size 1152x576 with 1 Axes>"
            ]
          },
          "metadata": {
            "tags": []
          }
        }
      ]
    },
    {
      "cell_type": "markdown",
      "metadata": {
        "id": "pWWqdMwADx49",
        "colab_type": "text"
      },
      "source": [
        "O gráfico a seguir mostra uma relação entre o número de passageiros e a frequencia de viagens :  "
      ]
    },
    {
      "cell_type": "code",
      "metadata": {
        "id": "_kdybibZESoY",
        "colab_type": "code",
        "outputId": "28a48789-1ad6-4b5c-b29b-d9d8035a3326",
        "colab": {
          "base_uri": "https://localhost:8080/",
          "height": 537
        }
      },
      "source": [
        "train[train.passenger_count <7].passenger_count.hist(bins=10,figsize=(16,8))\n",
        "plt.xlabel('passageiros')\n",
        "plt.ylabel('Frequencia')"
      ],
      "execution_count": 23,
      "outputs": [
        {
          "output_type": "execute_result",
          "data": {
            "text/plain": [
              "Text(0, 0.5, 'Frequencia')"
            ]
          },
          "metadata": {
            "tags": []
          },
          "execution_count": 23
        },
        {
          "output_type": "display_data",
          "data": {
            "image/png": "[encoded data removed]",
            "text/plain": [
              "<Figure size 1152x576 with 1 Axes>"
            ]
          },
          "metadata": {
            "tags": []
          }
        }
      ]
    },
    {
      "cell_type": "markdown",
      "metadata": {
        "id": "oAztNlZ-GxMz",
        "colab_type": "text"
      },
      "source": [
        "Agora um gráfico box representa melhor a distribuição empirica dos dados :"
      ]
    },
    {
      "cell_type": "code",
      "metadata": {
        "id": "fBXXzJkSES7x",
        "colab_type": "code",
        "outputId": "35844407-7b6f-4102-e900-9df96fc818f8",
        "colab": {
          "base_uri": "https://localhost:8080/",
          "height": 538
        }
      },
      "source": [
        "plt.figure(figsize = (16,8))\n",
        "sns.boxplot(x = train[train.passenger_count<7].passenger_count,y=train.fare_amount)"
      ],
      "execution_count": 24,
      "outputs": [
        {
          "output_type": "execute_result",
          "data": {
            "text/plain": [
              "<matplotlib.axes._subplots.AxesSubplot at 0x7f9093899780>"
            ]
          },
          "metadata": {
            "tags": []
          },
          "execution_count": 24
        },
        {
          "output_type": "display_data",
          "data": {
            "image/png": "[encoded data removed]",
            "text/plain": [
              "<Figure size 1152x576 with 1 Axes>"
            ]
          },
          "metadata": {
            "tags": []
          }
        }
      ]
    },
    {
      "cell_type": "markdown",
      "metadata": {
        "id": "598Zz1mSHtQ1",
        "colab_type": "text"
      },
      "source": [
        "O gráfico boxplot anterior representa bem que a relação do preço da corrida e a quantidade de passageiros não são importantes, já que o mesmo se aproximou de zero. Para confirmar essa afirmação é possível uilizar a correlação dessas duas variáveis : "
      ]
    },
    {
      "cell_type": "code",
      "metadata": {
        "id": "aaagbvi5ES4B",
        "colab_type": "code",
        "outputId": "b179abc5-1509-4e79-bfec-a5de87b481e2",
        "colab": {
          "base_uri": "https://localhost:8080/",
          "height": 111
        }
      },
      "source": [
        "train[train.passenger_count <7][['fare_amount','passenger_count']].corr()"
      ],
      "execution_count": 25,
      "outputs": [
        {
          "output_type": "execute_result",
          "data": {
            "text/html": [
              "<div>\n",
              "<style scoped>\n",
              "    .dataframe tbody tr th:only-of-type {\n",
              "        vertical-align: middle;\n",
              "    }\n",
              "\n",
              "    .dataframe tbody tr th {\n",
              "        vertical-align: top;\n",
              "    }\n",
              "\n",
              "    .dataframe thead th {\n",
              "        text-align: right;\n",
              "    }\n",
              "</style>\n",
              "<table border=\"1\" class=\"dataframe\">\n",
              "  <thead>\n",
              "    <tr style=\"text-align: right;\">\n",
              "      <th></th>\n",
              "      <th>fare_amount</th>\n",
              "      <th>passenger_count</th>\n",
              "    </tr>\n",
              "  </thead>\n",
              "  <tbody>\n",
              "    <tr>\n",
              "      <th>fare_amount</th>\n",
              "      <td>1.000000</td>\n",
              "      <td>0.014059</td>\n",
              "    </tr>\n",
              "    <tr>\n",
              "      <th>passenger_count</th>\n",
              "      <td>0.014059</td>\n",
              "      <td>1.000000</td>\n",
              "    </tr>\n",
              "  </tbody>\n",
              "</table>\n",
              "</div>"
            ],
            "text/plain": [
              "                 fare_amount  passenger_count\n",
              "fare_amount         1.000000         0.014059\n",
              "passenger_count     0.014059         1.000000"
            ]
          },
          "metadata": {
            "tags": []
          },
          "execution_count": 25
        }
      ]
    },
    {
      "cell_type": "markdown",
      "metadata": {
        "id": "PLZ01Wv2OrPF",
        "colab_type": "text"
      },
      "source": [
        "Comprovando que essa é uma correlação fraca = 0,014. Provando que não existe relação entre o preço da corrida e o numero de passageiros. "
      ]
    },
    {
      "cell_type": "markdown",
      "metadata": {
        "id": "Hc_hYzDtSujs",
        "colab_type": "text"
      },
      "source": [
        "\n",
        "\n",
        "---\n",
        "\n",
        "\n",
        "#Importando test"
      ]
    },
    {
      "cell_type": "markdown",
      "metadata": {
        "id": "hRJ9xgemS80N",
        "colab_type": "text"
      },
      "source": [
        "Importando test.csv para o data frame e mostrando o tamanho de test, junto com o formato dos dados. Obs.: O test não tem a coluna dos preço justamente por ser ela que precisa ser encontrada:"
      ]
    },
    {
      "cell_type": "code",
      "metadata": {
        "id": "va7YrNNPES02",
        "colab_type": "code",
        "outputId": "c2e3751b-c6c7-43c4-c8bf-2e6670cbfa37",
        "colab": {
          "base_uri": "https://localhost:8080/",
          "height": 326
        }
      },
      "source": [
        "test = pd.read_csv('test.csv')\n",
        "print('Shape de teste ', test.shape)\n",
        "test.head()"
      ],
      "execution_count": 26,
      "outputs": [
        {
          "output_type": "stream",
          "text": [
            "Shape de teste  (9914, 7)\n"
          ],
          "name": "stdout"
        },
        {
          "output_type": "execute_result",
          "data": {
            "text/html": [
              "<div>\n",
              "<style scoped>\n",
              "    .dataframe tbody tr th:only-of-type {\n",
              "        vertical-align: middle;\n",
              "    }\n",
              "\n",
              "    .dataframe tbody tr th {\n",
              "        vertical-align: top;\n",
              "    }\n",
              "\n",
              "    .dataframe thead th {\n",
              "        text-align: right;\n",
              "    }\n",
              "</style>\n",
              "<table border=\"1\" class=\"dataframe\">\n",
              "  <thead>\n",
              "    <tr style=\"text-align: right;\">\n",
              "      <th></th>\n",
              "      <th>key</th>\n",
              "      <th>pickup_datetime</th>\n",
              "      <th>pickup_longitude</th>\n",
              "      <th>pickup_latitude</th>\n",
              "      <th>dropoff_longitude</th>\n",
              "      <th>dropoff_latitude</th>\n",
              "      <th>passenger_count</th>\n",
              "    </tr>\n",
              "  </thead>\n",
              "  <tbody>\n",
              "    <tr>\n",
              "      <th>0</th>\n",
              "      <td>2015-01-27 13:08:24.0000002</td>\n",
              "      <td>2015-01-27 13:08:24 UTC</td>\n",
              "      <td>-73.973320</td>\n",
              "      <td>40.763805</td>\n",
              "      <td>-73.981430</td>\n",
              "      <td>40.743835</td>\n",
              "      <td>1</td>\n",
              "    </tr>\n",
              "    <tr>\n",
              "      <th>1</th>\n",
              "      <td>2015-01-27 13:08:24.0000003</td>\n",
              "      <td>2015-01-27 13:08:24 UTC</td>\n",
              "      <td>-73.986862</td>\n",
              "      <td>40.719383</td>\n",
              "      <td>-73.998886</td>\n",
              "      <td>40.739201</td>\n",
              "      <td>1</td>\n",
              "    </tr>\n",
              "    <tr>\n",
              "      <th>2</th>\n",
              "      <td>2011-10-08 11:53:44.0000002</td>\n",
              "      <td>2011-10-08 11:53:44 UTC</td>\n",
              "      <td>-73.982524</td>\n",
              "      <td>40.751260</td>\n",
              "      <td>-73.979654</td>\n",
              "      <td>40.746139</td>\n",
              "      <td>1</td>\n",
              "    </tr>\n",
              "    <tr>\n",
              "      <th>3</th>\n",
              "      <td>2012-12-01 21:12:12.0000002</td>\n",
              "      <td>2012-12-01 21:12:12 UTC</td>\n",
              "      <td>-73.981160</td>\n",
              "      <td>40.767807</td>\n",
              "      <td>-73.990448</td>\n",
              "      <td>40.751635</td>\n",
              "      <td>1</td>\n",
              "    </tr>\n",
              "    <tr>\n",
              "      <th>4</th>\n",
              "      <td>2012-12-01 21:12:12.0000003</td>\n",
              "      <td>2012-12-01 21:12:12 UTC</td>\n",
              "      <td>-73.966046</td>\n",
              "      <td>40.789775</td>\n",
              "      <td>-73.988565</td>\n",
              "      <td>40.744427</td>\n",
              "      <td>1</td>\n",
              "    </tr>\n",
              "  </tbody>\n",
              "</table>\n",
              "</div>"
            ],
            "text/plain": [
              "                           key          pickup_datetime  pickup_longitude  \\\n",
              "0  2015-01-27 13:08:24.0000002  2015-01-27 13:08:24 UTC        -73.973320   \n",
              "1  2015-01-27 13:08:24.0000003  2015-01-27 13:08:24 UTC        -73.986862   \n",
              "2  2011-10-08 11:53:44.0000002  2011-10-08 11:53:44 UTC        -73.982524   \n",
              "3  2012-12-01 21:12:12.0000002  2012-12-01 21:12:12 UTC        -73.981160   \n",
              "4  2012-12-01 21:12:12.0000003  2012-12-01 21:12:12 UTC        -73.966046   \n",
              "\n",
              "   pickup_latitude  dropoff_longitude  dropoff_latitude  passenger_count  \n",
              "0        40.763805         -73.981430         40.743835                1  \n",
              "1        40.719383         -73.998886         40.739201                1  \n",
              "2        40.751260         -73.979654         40.746139                1  \n",
              "3        40.767807         -73.990448         40.751635                1  \n",
              "4        40.789775         -73.988565         40.744427                1  "
            ]
          },
          "metadata": {
            "tags": []
          },
          "execution_count": 26
        }
      ]
    },
    {
      "cell_type": "markdown",
      "metadata": {
        "id": "8jPUf1MATkS_",
        "colab_type": "text"
      },
      "source": [
        "É preciso verificar se dentro de teste existe algum valor nulo : "
      ]
    },
    {
      "cell_type": "code",
      "metadata": {
        "id": "w6y9xESbTtTu",
        "colab_type": "code",
        "outputId": "2b9baf37-8784-4792-a949-431a080674fb",
        "colab": {
          "base_uri": "https://localhost:8080/",
          "height": 153
        }
      },
      "source": [
        "test.isnull().sum()"
      ],
      "execution_count": 27,
      "outputs": [
        {
          "output_type": "execute_result",
          "data": {
            "text/plain": [
              "key                  0\n",
              "pickup_datetime      0\n",
              "pickup_longitude     0\n",
              "pickup_latitude      0\n",
              "dropoff_longitude    0\n",
              "dropoff_latitude     0\n",
              "passenger_count      0\n",
              "dtype: int64"
            ]
          },
          "metadata": {
            "tags": []
          },
          "execution_count": 27
        }
      ]
    },
    {
      "cell_type": "markdown",
      "metadata": {
        "id": "xHUXGNgJTzgE",
        "colab_type": "text"
      },
      "source": [
        "Não existe valores nulos !"
      ]
    },
    {
      "cell_type": "code",
      "metadata": {
        "id": "dSMMI2iqT3Qc",
        "colab_type": "code",
        "outputId": "b9014e58-8761-4148-9e06-5ead7bac9680",
        "colab": {
          "base_uri": "https://localhost:8080/",
          "height": 297
        }
      },
      "source": [
        "test.describe()"
      ],
      "execution_count": 28,
      "outputs": [
        {
          "output_type": "execute_result",
          "data": {
            "text/html": [
              "<div>\n",
              "<style scoped>\n",
              "    .dataframe tbody tr th:only-of-type {\n",
              "        vertical-align: middle;\n",
              "    }\n",
              "\n",
              "    .dataframe tbody tr th {\n",
              "        vertical-align: top;\n",
              "    }\n",
              "\n",
              "    .dataframe thead th {\n",
              "        text-align: right;\n",
              "    }\n",
              "</style>\n",
              "<table border=\"1\" class=\"dataframe\">\n",
              "  <thead>\n",
              "    <tr style=\"text-align: right;\">\n",
              "      <th></th>\n",
              "      <th>pickup_longitude</th>\n",
              "      <th>pickup_latitude</th>\n",
              "      <th>dropoff_longitude</th>\n",
              "      <th>dropoff_latitude</th>\n",
              "      <th>passenger_count</th>\n",
              "    </tr>\n",
              "  </thead>\n",
              "  <tbody>\n",
              "    <tr>\n",
              "      <th>count</th>\n",
              "      <td>9914.000000</td>\n",
              "      <td>9914.000000</td>\n",
              "      <td>9914.000000</td>\n",
              "      <td>9914.000000</td>\n",
              "      <td>9914.000000</td>\n",
              "    </tr>\n",
              "    <tr>\n",
              "      <th>mean</th>\n",
              "      <td>-73.974722</td>\n",
              "      <td>40.751041</td>\n",
              "      <td>-73.973657</td>\n",
              "      <td>40.751743</td>\n",
              "      <td>1.671273</td>\n",
              "    </tr>\n",
              "    <tr>\n",
              "      <th>std</th>\n",
              "      <td>0.042774</td>\n",
              "      <td>0.033541</td>\n",
              "      <td>0.039072</td>\n",
              "      <td>0.035435</td>\n",
              "      <td>1.278747</td>\n",
              "    </tr>\n",
              "    <tr>\n",
              "      <th>min</th>\n",
              "      <td>-74.252193</td>\n",
              "      <td>40.573143</td>\n",
              "      <td>-74.263242</td>\n",
              "      <td>40.568973</td>\n",
              "      <td>1.000000</td>\n",
              "    </tr>\n",
              "    <tr>\n",
              "      <th>25%</th>\n",
              "      <td>-73.992501</td>\n",
              "      <td>40.736125</td>\n",
              "      <td>-73.991247</td>\n",
              "      <td>40.735254</td>\n",
              "      <td>1.000000</td>\n",
              "    </tr>\n",
              "    <tr>\n",
              "      <th>50%</th>\n",
              "      <td>-73.982326</td>\n",
              "      <td>40.753051</td>\n",
              "      <td>-73.980015</td>\n",
              "      <td>40.754065</td>\n",
              "      <td>1.000000</td>\n",
              "    </tr>\n",
              "    <tr>\n",
              "      <th>75%</th>\n",
              "      <td>-73.968013</td>\n",
              "      <td>40.767113</td>\n",
              "      <td>-73.964059</td>\n",
              "      <td>40.768757</td>\n",
              "      <td>2.000000</td>\n",
              "    </tr>\n",
              "    <tr>\n",
              "      <th>max</th>\n",
              "      <td>-72.986532</td>\n",
              "      <td>41.709555</td>\n",
              "      <td>-72.990963</td>\n",
              "      <td>41.696683</td>\n",
              "      <td>6.000000</td>\n",
              "    </tr>\n",
              "  </tbody>\n",
              "</table>\n",
              "</div>"
            ],
            "text/plain": [
              "       pickup_longitude  pickup_latitude  dropoff_longitude  dropoff_latitude  \\\n",
              "count       9914.000000      9914.000000        9914.000000       9914.000000   \n",
              "mean         -73.974722        40.751041         -73.973657         40.751743   \n",
              "std            0.042774         0.033541           0.039072          0.035435   \n",
              "min          -74.252193        40.573143         -74.263242         40.568973   \n",
              "25%          -73.992501        40.736125         -73.991247         40.735254   \n",
              "50%          -73.982326        40.753051         -73.980015         40.754065   \n",
              "75%          -73.968013        40.767113         -73.964059         40.768757   \n",
              "max          -72.986532        41.709555         -72.990963         41.696683   \n",
              "\n",
              "       passenger_count  \n",
              "count      9914.000000  \n",
              "mean          1.671273  \n",
              "std           1.278747  \n",
              "min           1.000000  \n",
              "25%           1.000000  \n",
              "50%           1.000000  \n",
              "75%           2.000000  \n",
              "max           6.000000  "
            ]
          },
          "metadata": {
            "tags": []
          },
          "execution_count": 28
        }
      ]
    },
    {
      "cell_type": "markdown",
      "metadata": {
        "id": "WfqX0w_sXgPA",
        "colab_type": "text"
      },
      "source": [
        "Distância de Mahanttan, a mesma é definida pela formula :\n",
        "\n",
        "** |*x1-x2*| + |*y1-y2*|**"
      ]
    },
    {
      "cell_type": "code",
      "metadata": {
        "id": "dfWyN4PH2QaC",
        "colab_type": "code",
        "colab": {}
      },
      "source": [
        "def prepar_time(df):\n",
        "  df['pickup_datetime'] = df['pickup_datetime'].str.slice(0,16)\n",
        "  df['pickup_datetime'] = pd.to_datetime(df['pickup_datetime'], utc=True, format = \"%Y-%m-%d %H:%M\") \n",
        "  df['hour'] = df.pickup_datetime.dt.hour\n",
        "  df['month'] = df.pickup_datetime.dt.month\n",
        "  df['year'] = df.pickup_datetime.dt.year\n",
        "  df['weekday'] = df.pickup_datetime.dt.weekday\n",
        "  return df   "
      ],
      "execution_count": 0,
      "outputs": []
    },
    {
      "cell_type": "code",
      "metadata": {
        "id": "yEE-HBBN1z5k",
        "colab_type": "code",
        "outputId": "e83eef9c-9a6d-4645-9182-441957c46480",
        "colab": {
          "base_uri": "https://localhost:8080/",
          "height": 309
        }
      },
      "source": [
        "train = prepar_time(train)\n",
        "train.head()"
      ],
      "execution_count": 30,
      "outputs": [
        {
          "output_type": "execute_result",
          "data": {
            "text/html": [
              "<div>\n",
              "<style scoped>\n",
              "    .dataframe tbody tr th:only-of-type {\n",
              "        vertical-align: middle;\n",
              "    }\n",
              "\n",
              "    .dataframe tbody tr th {\n",
              "        vertical-align: top;\n",
              "    }\n",
              "\n",
              "    .dataframe thead th {\n",
              "        text-align: right;\n",
              "    }\n",
              "</style>\n",
              "<table border=\"1\" class=\"dataframe\">\n",
              "  <thead>\n",
              "    <tr style=\"text-align: right;\">\n",
              "      <th></th>\n",
              "      <th>key</th>\n",
              "      <th>fare_amount</th>\n",
              "      <th>pickup_datetime</th>\n",
              "      <th>pickup_longitude</th>\n",
              "      <th>pickup_latitude</th>\n",
              "      <th>dropoff_longitude</th>\n",
              "      <th>dropoff_latitude</th>\n",
              "      <th>passenger_count</th>\n",
              "      <th>hour</th>\n",
              "      <th>month</th>\n",
              "      <th>year</th>\n",
              "      <th>weekday</th>\n",
              "    </tr>\n",
              "  </thead>\n",
              "  <tbody>\n",
              "    <tr>\n",
              "      <th>0</th>\n",
              "      <td>2009-06-15 17:26:21.0000001</td>\n",
              "      <td>4.5</td>\n",
              "      <td>2009-06-15 17:26:00+00:00</td>\n",
              "      <td>-73.844311</td>\n",
              "      <td>40.721319</td>\n",
              "      <td>-73.841610</td>\n",
              "      <td>40.712278</td>\n",
              "      <td>1</td>\n",
              "      <td>17</td>\n",
              "      <td>6</td>\n",
              "      <td>2009</td>\n",
              "      <td>0</td>\n",
              "    </tr>\n",
              "    <tr>\n",
              "      <th>1</th>\n",
              "      <td>2010-01-05 16:52:16.0000002</td>\n",
              "      <td>16.9</td>\n",
              "      <td>2010-01-05 16:52:00+00:00</td>\n",
              "      <td>-74.016048</td>\n",
              "      <td>40.711303</td>\n",
              "      <td>-73.979268</td>\n",
              "      <td>40.782004</td>\n",
              "      <td>1</td>\n",
              "      <td>16</td>\n",
              "      <td>1</td>\n",
              "      <td>2010</td>\n",
              "      <td>1</td>\n",
              "    </tr>\n",
              "    <tr>\n",
              "      <th>2</th>\n",
              "      <td>2011-08-18 00:35:00.00000049</td>\n",
              "      <td>5.7</td>\n",
              "      <td>2011-08-18 00:35:00+00:00</td>\n",
              "      <td>-73.982738</td>\n",
              "      <td>40.761270</td>\n",
              "      <td>-73.991242</td>\n",
              "      <td>40.750562</td>\n",
              "      <td>2</td>\n",
              "      <td>0</td>\n",
              "      <td>8</td>\n",
              "      <td>2011</td>\n",
              "      <td>3</td>\n",
              "    </tr>\n",
              "    <tr>\n",
              "      <th>3</th>\n",
              "      <td>2012-04-21 04:30:42.0000001</td>\n",
              "      <td>7.7</td>\n",
              "      <td>2012-04-21 04:30:00+00:00</td>\n",
              "      <td>-73.987130</td>\n",
              "      <td>40.733143</td>\n",
              "      <td>-73.991567</td>\n",
              "      <td>40.758092</td>\n",
              "      <td>1</td>\n",
              "      <td>4</td>\n",
              "      <td>4</td>\n",
              "      <td>2012</td>\n",
              "      <td>5</td>\n",
              "    </tr>\n",
              "    <tr>\n",
              "      <th>4</th>\n",
              "      <td>2010-03-09 07:51:00.000000135</td>\n",
              "      <td>5.3</td>\n",
              "      <td>2010-03-09 07:51:00+00:00</td>\n",
              "      <td>-73.968095</td>\n",
              "      <td>40.768008</td>\n",
              "      <td>-73.956655</td>\n",
              "      <td>40.783762</td>\n",
              "      <td>1</td>\n",
              "      <td>7</td>\n",
              "      <td>3</td>\n",
              "      <td>2010</td>\n",
              "      <td>1</td>\n",
              "    </tr>\n",
              "  </tbody>\n",
              "</table>\n",
              "</div>"
            ],
            "text/plain": [
              "                             key  fare_amount           pickup_datetime  \\\n",
              "0    2009-06-15 17:26:21.0000001          4.5 2009-06-15 17:26:00+00:00   \n",
              "1    2010-01-05 16:52:16.0000002         16.9 2010-01-05 16:52:00+00:00   \n",
              "2   2011-08-18 00:35:00.00000049          5.7 2011-08-18 00:35:00+00:00   \n",
              "3    2012-04-21 04:30:42.0000001          7.7 2012-04-21 04:30:00+00:00   \n",
              "4  2010-03-09 07:51:00.000000135          5.3 2010-03-09 07:51:00+00:00   \n",
              "\n",
              "   pickup_longitude  pickup_latitude  dropoff_longitude  dropoff_latitude  \\\n",
              "0        -73.844311        40.721319         -73.841610         40.712278   \n",
              "1        -74.016048        40.711303         -73.979268         40.782004   \n",
              "2        -73.982738        40.761270         -73.991242         40.750562   \n",
              "3        -73.987130        40.733143         -73.991567         40.758092   \n",
              "4        -73.968095        40.768008         -73.956655         40.783762   \n",
              "\n",
              "   passenger_count  hour  month  year  weekday  \n",
              "0                1    17      6  2009        0  \n",
              "1                1    16      1  2010        1  \n",
              "2                2     0      8  2011        3  \n",
              "3                1     4      4  2012        5  \n",
              "4                1     7      3  2010        1  "
            ]
          },
          "metadata": {
            "tags": []
          },
          "execution_count": 30
        }
      ]
    },
    {
      "cell_type": "code",
      "metadata": {
        "id": "TyoPow4ka9MW",
        "colab_type": "code",
        "outputId": "223015e8-3832-40fa-fd2f-3262cdad82c5",
        "colab": {
          "base_uri": "https://localhost:8080/",
          "height": 309
        }
      },
      "source": [
        "test = prepar_time(test)\n",
        "test.head()"
      ],
      "execution_count": 31,
      "outputs": [
        {
          "output_type": "execute_result",
          "data": {
            "text/html": [
              "<div>\n",
              "<style scoped>\n",
              "    .dataframe tbody tr th:only-of-type {\n",
              "        vertical-align: middle;\n",
              "    }\n",
              "\n",
              "    .dataframe tbody tr th {\n",
              "        vertical-align: top;\n",
              "    }\n",
              "\n",
              "    .dataframe thead th {\n",
              "        text-align: right;\n",
              "    }\n",
              "</style>\n",
              "<table border=\"1\" class=\"dataframe\">\n",
              "  <thead>\n",
              "    <tr style=\"text-align: right;\">\n",
              "      <th></th>\n",
              "      <th>key</th>\n",
              "      <th>pickup_datetime</th>\n",
              "      <th>pickup_longitude</th>\n",
              "      <th>pickup_latitude</th>\n",
              "      <th>dropoff_longitude</th>\n",
              "      <th>dropoff_latitude</th>\n",
              "      <th>passenger_count</th>\n",
              "      <th>hour</th>\n",
              "      <th>month</th>\n",
              "      <th>year</th>\n",
              "      <th>weekday</th>\n",
              "    </tr>\n",
              "  </thead>\n",
              "  <tbody>\n",
              "    <tr>\n",
              "      <th>0</th>\n",
              "      <td>2015-01-27 13:08:24.0000002</td>\n",
              "      <td>2015-01-27 13:08:00+00:00</td>\n",
              "      <td>-73.973320</td>\n",
              "      <td>40.763805</td>\n",
              "      <td>-73.981430</td>\n",
              "      <td>40.743835</td>\n",
              "      <td>1</td>\n",
              "      <td>13</td>\n",
              "      <td>1</td>\n",
              "      <td>2015</td>\n",
              "      <td>1</td>\n",
              "    </tr>\n",
              "    <tr>\n",
              "      <th>1</th>\n",
              "      <td>2015-01-27 13:08:24.0000003</td>\n",
              "      <td>2015-01-27 13:08:00+00:00</td>\n",
              "      <td>-73.986862</td>\n",
              "      <td>40.719383</td>\n",
              "      <td>-73.998886</td>\n",
              "      <td>40.739201</td>\n",
              "      <td>1</td>\n",
              "      <td>13</td>\n",
              "      <td>1</td>\n",
              "      <td>2015</td>\n",
              "      <td>1</td>\n",
              "    </tr>\n",
              "    <tr>\n",
              "      <th>2</th>\n",
              "      <td>2011-10-08 11:53:44.0000002</td>\n",
              "      <td>2011-10-08 11:53:00+00:00</td>\n",
              "      <td>-73.982524</td>\n",
              "      <td>40.751260</td>\n",
              "      <td>-73.979654</td>\n",
              "      <td>40.746139</td>\n",
              "      <td>1</td>\n",
              "      <td>11</td>\n",
              "      <td>10</td>\n",
              "      <td>2011</td>\n",
              "      <td>5</td>\n",
              "    </tr>\n",
              "    <tr>\n",
              "      <th>3</th>\n",
              "      <td>2012-12-01 21:12:12.0000002</td>\n",
              "      <td>2012-12-01 21:12:00+00:00</td>\n",
              "      <td>-73.981160</td>\n",
              "      <td>40.767807</td>\n",
              "      <td>-73.990448</td>\n",
              "      <td>40.751635</td>\n",
              "      <td>1</td>\n",
              "      <td>21</td>\n",
              "      <td>12</td>\n",
              "      <td>2012</td>\n",
              "      <td>5</td>\n",
              "    </tr>\n",
              "    <tr>\n",
              "      <th>4</th>\n",
              "      <td>2012-12-01 21:12:12.0000003</td>\n",
              "      <td>2012-12-01 21:12:00+00:00</td>\n",
              "      <td>-73.966046</td>\n",
              "      <td>40.789775</td>\n",
              "      <td>-73.988565</td>\n",
              "      <td>40.744427</td>\n",
              "      <td>1</td>\n",
              "      <td>21</td>\n",
              "      <td>12</td>\n",
              "      <td>2012</td>\n",
              "      <td>5</td>\n",
              "    </tr>\n",
              "  </tbody>\n",
              "</table>\n",
              "</div>"
            ],
            "text/plain": [
              "                           key           pickup_datetime  pickup_longitude  \\\n",
              "0  2015-01-27 13:08:24.0000002 2015-01-27 13:08:00+00:00        -73.973320   \n",
              "1  2015-01-27 13:08:24.0000003 2015-01-27 13:08:00+00:00        -73.986862   \n",
              "2  2011-10-08 11:53:44.0000002 2011-10-08 11:53:00+00:00        -73.982524   \n",
              "3  2012-12-01 21:12:12.0000002 2012-12-01 21:12:00+00:00        -73.981160   \n",
              "4  2012-12-01 21:12:12.0000003 2012-12-01 21:12:00+00:00        -73.966046   \n",
              "\n",
              "   pickup_latitude  dropoff_longitude  dropoff_latitude  passenger_count  \\\n",
              "0        40.763805         -73.981430         40.743835                1   \n",
              "1        40.719383         -73.998886         40.739201                1   \n",
              "2        40.751260         -73.979654         40.746139                1   \n",
              "3        40.767807         -73.990448         40.751635                1   \n",
              "4        40.789775         -73.988565         40.744427                1   \n",
              "\n",
              "   hour  month  year  weekday  \n",
              "0    13      1  2015        1  \n",
              "1    13      1  2015        1  \n",
              "2    11     10  2011        5  \n",
              "3    21     12  2012        5  \n",
              "4    21     12  2012        5  "
            ]
          },
          "metadata": {
            "tags": []
          },
          "execution_count": 31
        }
      ]
    },
    {
      "cell_type": "code",
      "metadata": {
        "id": "TmIWrJCzXfRF",
        "colab_type": "code",
        "colab": {}
      },
      "source": [
        "def distancia_mahanttan (lat1,lon1,lat2,lon2):\n",
        "  return abs(lat1-lat2)+abs(lon1-lon2) "
      ],
      "execution_count": 0,
      "outputs": []
    },
    {
      "cell_type": "code",
      "metadata": {
        "id": "n3L8DrzLESxp",
        "colab_type": "code",
        "outputId": "5cbf4d96-a27a-48b9-f941-19485ee1a84b",
        "colab": {
          "base_uri": "https://localhost:8080/",
          "height": 309
        }
      },
      "source": [
        "train['distance'] = distancia_mahanttan(train.pickup_latitude,train.pickup_longitude,train.dropoff_latitude,train.dropoff_longitude)\n",
        "train.head()"
      ],
      "execution_count": 33,
      "outputs": [
        {
          "output_type": "execute_result",
          "data": {
            "text/html": [
              "<div>\n",
              "<style scoped>\n",
              "    .dataframe tbody tr th:only-of-type {\n",
              "        vertical-align: middle;\n",
              "    }\n",
              "\n",
              "    .dataframe tbody tr th {\n",
              "        vertical-align: top;\n",
              "    }\n",
              "\n",
              "    .dataframe thead th {\n",
              "        text-align: right;\n",
              "    }\n",
              "</style>\n",
              "<table border=\"1\" class=\"dataframe\">\n",
              "  <thead>\n",
              "    <tr style=\"text-align: right;\">\n",
              "      <th></th>\n",
              "      <th>key</th>\n",
              "      <th>fare_amount</th>\n",
              "      <th>pickup_datetime</th>\n",
              "      <th>pickup_longitude</th>\n",
              "      <th>pickup_latitude</th>\n",
              "      <th>dropoff_longitude</th>\n",
              "      <th>dropoff_latitude</th>\n",
              "      <th>passenger_count</th>\n",
              "      <th>hour</th>\n",
              "      <th>month</th>\n",
              "      <th>year</th>\n",
              "      <th>weekday</th>\n",
              "      <th>distance</th>\n",
              "    </tr>\n",
              "  </thead>\n",
              "  <tbody>\n",
              "    <tr>\n",
              "      <th>0</th>\n",
              "      <td>2009-06-15 17:26:21.0000001</td>\n",
              "      <td>4.5</td>\n",
              "      <td>2009-06-15 17:26:00+00:00</td>\n",
              "      <td>-73.844311</td>\n",
              "      <td>40.721319</td>\n",
              "      <td>-73.841610</td>\n",
              "      <td>40.712278</td>\n",
              "      <td>1</td>\n",
              "      <td>17</td>\n",
              "      <td>6</td>\n",
              "      <td>2009</td>\n",
              "      <td>0</td>\n",
              "      <td>0.011742</td>\n",
              "    </tr>\n",
              "    <tr>\n",
              "      <th>1</th>\n",
              "      <td>2010-01-05 16:52:16.0000002</td>\n",
              "      <td>16.9</td>\n",
              "      <td>2010-01-05 16:52:00+00:00</td>\n",
              "      <td>-74.016048</td>\n",
              "      <td>40.711303</td>\n",
              "      <td>-73.979268</td>\n",
              "      <td>40.782004</td>\n",
              "      <td>1</td>\n",
              "      <td>16</td>\n",
              "      <td>1</td>\n",
              "      <td>2010</td>\n",
              "      <td>1</td>\n",
              "      <td>0.107481</td>\n",
              "    </tr>\n",
              "    <tr>\n",
              "      <th>2</th>\n",
              "      <td>2011-08-18 00:35:00.00000049</td>\n",
              "      <td>5.7</td>\n",
              "      <td>2011-08-18 00:35:00+00:00</td>\n",
              "      <td>-73.982738</td>\n",
              "      <td>40.761270</td>\n",
              "      <td>-73.991242</td>\n",
              "      <td>40.750562</td>\n",
              "      <td>2</td>\n",
              "      <td>0</td>\n",
              "      <td>8</td>\n",
              "      <td>2011</td>\n",
              "      <td>3</td>\n",
              "      <td>0.019212</td>\n",
              "    </tr>\n",
              "    <tr>\n",
              "      <th>3</th>\n",
              "      <td>2012-04-21 04:30:42.0000001</td>\n",
              "      <td>7.7</td>\n",
              "      <td>2012-04-21 04:30:00+00:00</td>\n",
              "      <td>-73.987130</td>\n",
              "      <td>40.733143</td>\n",
              "      <td>-73.991567</td>\n",
              "      <td>40.758092</td>\n",
              "      <td>1</td>\n",
              "      <td>4</td>\n",
              "      <td>4</td>\n",
              "      <td>2012</td>\n",
              "      <td>5</td>\n",
              "      <td>0.029386</td>\n",
              "    </tr>\n",
              "    <tr>\n",
              "      <th>4</th>\n",
              "      <td>2010-03-09 07:51:00.000000135</td>\n",
              "      <td>5.3</td>\n",
              "      <td>2010-03-09 07:51:00+00:00</td>\n",
              "      <td>-73.968095</td>\n",
              "      <td>40.768008</td>\n",
              "      <td>-73.956655</td>\n",
              "      <td>40.783762</td>\n",
              "      <td>1</td>\n",
              "      <td>7</td>\n",
              "      <td>3</td>\n",
              "      <td>2010</td>\n",
              "      <td>1</td>\n",
              "      <td>0.027194</td>\n",
              "    </tr>\n",
              "  </tbody>\n",
              "</table>\n",
              "</div>"
            ],
            "text/plain": [
              "                             key  fare_amount           pickup_datetime  \\\n",
              "0    2009-06-15 17:26:21.0000001          4.5 2009-06-15 17:26:00+00:00   \n",
              "1    2010-01-05 16:52:16.0000002         16.9 2010-01-05 16:52:00+00:00   \n",
              "2   2011-08-18 00:35:00.00000049          5.7 2011-08-18 00:35:00+00:00   \n",
              "3    2012-04-21 04:30:42.0000001          7.7 2012-04-21 04:30:00+00:00   \n",
              "4  2010-03-09 07:51:00.000000135          5.3 2010-03-09 07:51:00+00:00   \n",
              "\n",
              "   pickup_longitude  pickup_latitude  dropoff_longitude  dropoff_latitude  \\\n",
              "0        -73.844311        40.721319         -73.841610         40.712278   \n",
              "1        -74.016048        40.711303         -73.979268         40.782004   \n",
              "2        -73.982738        40.761270         -73.991242         40.750562   \n",
              "3        -73.987130        40.733143         -73.991567         40.758092   \n",
              "4        -73.968095        40.768008         -73.956655         40.783762   \n",
              "\n",
              "   passenger_count  hour  month  year  weekday  distance  \n",
              "0                1    17      6  2009        0  0.011742  \n",
              "1                1    16      1  2010        1  0.107481  \n",
              "2                2     0      8  2011        3  0.019212  \n",
              "3                1     4      4  2012        5  0.029386  \n",
              "4                1     7      3  2010        1  0.027194  "
            ]
          },
          "metadata": {
            "tags": []
          },
          "execution_count": 33
        }
      ]
    },
    {
      "cell_type": "code",
      "metadata": {
        "id": "tqnJvPtc5YYZ",
        "colab_type": "code",
        "outputId": "aa900fe7-1348-4efe-9b22-aabd1877e902",
        "colab": {
          "base_uri": "https://localhost:8080/",
          "height": 309
        }
      },
      "source": [
        "test['distance'] = distancia_mahanttan(test.pickup_latitude,test.pickup_longitude,test.dropoff_latitude,test.dropoff_longitude)\n",
        "test.head()"
      ],
      "execution_count": 34,
      "outputs": [
        {
          "output_type": "execute_result",
          "data": {
            "text/html": [
              "<div>\n",
              "<style scoped>\n",
              "    .dataframe tbody tr th:only-of-type {\n",
              "        vertical-align: middle;\n",
              "    }\n",
              "\n",
              "    .dataframe tbody tr th {\n",
              "        vertical-align: top;\n",
              "    }\n",
              "\n",
              "    .dataframe thead th {\n",
              "        text-align: right;\n",
              "    }\n",
              "</style>\n",
              "<table border=\"1\" class=\"dataframe\">\n",
              "  <thead>\n",
              "    <tr style=\"text-align: right;\">\n",
              "      <th></th>\n",
              "      <th>key</th>\n",
              "      <th>pickup_datetime</th>\n",
              "      <th>pickup_longitude</th>\n",
              "      <th>pickup_latitude</th>\n",
              "      <th>dropoff_longitude</th>\n",
              "      <th>dropoff_latitude</th>\n",
              "      <th>passenger_count</th>\n",
              "      <th>hour</th>\n",
              "      <th>month</th>\n",
              "      <th>year</th>\n",
              "      <th>weekday</th>\n",
              "      <th>distance</th>\n",
              "    </tr>\n",
              "  </thead>\n",
              "  <tbody>\n",
              "    <tr>\n",
              "      <th>0</th>\n",
              "      <td>2015-01-27 13:08:24.0000002</td>\n",
              "      <td>2015-01-27 13:08:00+00:00</td>\n",
              "      <td>-73.973320</td>\n",
              "      <td>40.763805</td>\n",
              "      <td>-73.981430</td>\n",
              "      <td>40.743835</td>\n",
              "      <td>1</td>\n",
              "      <td>13</td>\n",
              "      <td>1</td>\n",
              "      <td>2015</td>\n",
              "      <td>1</td>\n",
              "      <td>0.028080</td>\n",
              "    </tr>\n",
              "    <tr>\n",
              "      <th>1</th>\n",
              "      <td>2015-01-27 13:08:24.0000003</td>\n",
              "      <td>2015-01-27 13:08:00+00:00</td>\n",
              "      <td>-73.986862</td>\n",
              "      <td>40.719383</td>\n",
              "      <td>-73.998886</td>\n",
              "      <td>40.739201</td>\n",
              "      <td>1</td>\n",
              "      <td>13</td>\n",
              "      <td>1</td>\n",
              "      <td>2015</td>\n",
              "      <td>1</td>\n",
              "      <td>0.031841</td>\n",
              "    </tr>\n",
              "    <tr>\n",
              "      <th>2</th>\n",
              "      <td>2011-10-08 11:53:44.0000002</td>\n",
              "      <td>2011-10-08 11:53:00+00:00</td>\n",
              "      <td>-73.982524</td>\n",
              "      <td>40.751260</td>\n",
              "      <td>-73.979654</td>\n",
              "      <td>40.746139</td>\n",
              "      <td>1</td>\n",
              "      <td>11</td>\n",
              "      <td>10</td>\n",
              "      <td>2011</td>\n",
              "      <td>5</td>\n",
              "      <td>0.007991</td>\n",
              "    </tr>\n",
              "    <tr>\n",
              "      <th>3</th>\n",
              "      <td>2012-12-01 21:12:12.0000002</td>\n",
              "      <td>2012-12-01 21:12:00+00:00</td>\n",
              "      <td>-73.981160</td>\n",
              "      <td>40.767807</td>\n",
              "      <td>-73.990448</td>\n",
              "      <td>40.751635</td>\n",
              "      <td>1</td>\n",
              "      <td>21</td>\n",
              "      <td>12</td>\n",
              "      <td>2012</td>\n",
              "      <td>5</td>\n",
              "      <td>0.025460</td>\n",
              "    </tr>\n",
              "    <tr>\n",
              "      <th>4</th>\n",
              "      <td>2012-12-01 21:12:12.0000003</td>\n",
              "      <td>2012-12-01 21:12:00+00:00</td>\n",
              "      <td>-73.966046</td>\n",
              "      <td>40.789775</td>\n",
              "      <td>-73.988565</td>\n",
              "      <td>40.744427</td>\n",
              "      <td>1</td>\n",
              "      <td>21</td>\n",
              "      <td>12</td>\n",
              "      <td>2012</td>\n",
              "      <td>5</td>\n",
              "      <td>0.067867</td>\n",
              "    </tr>\n",
              "  </tbody>\n",
              "</table>\n",
              "</div>"
            ],
            "text/plain": [
              "                           key           pickup_datetime  pickup_longitude  \\\n",
              "0  2015-01-27 13:08:24.0000002 2015-01-27 13:08:00+00:00        -73.973320   \n",
              "1  2015-01-27 13:08:24.0000003 2015-01-27 13:08:00+00:00        -73.986862   \n",
              "2  2011-10-08 11:53:44.0000002 2011-10-08 11:53:00+00:00        -73.982524   \n",
              "3  2012-12-01 21:12:12.0000002 2012-12-01 21:12:00+00:00        -73.981160   \n",
              "4  2012-12-01 21:12:12.0000003 2012-12-01 21:12:00+00:00        -73.966046   \n",
              "\n",
              "   pickup_latitude  dropoff_longitude  dropoff_latitude  passenger_count  \\\n",
              "0        40.763805         -73.981430         40.743835                1   \n",
              "1        40.719383         -73.998886         40.739201                1   \n",
              "2        40.751260         -73.979654         40.746139                1   \n",
              "3        40.767807         -73.990448         40.751635                1   \n",
              "4        40.789775         -73.988565         40.744427                1   \n",
              "\n",
              "   hour  month  year  weekday  distance  \n",
              "0    13      1  2015        1  0.028080  \n",
              "1    13      1  2015        1  0.031841  \n",
              "2    11     10  2011        5  0.007991  \n",
              "3    21     12  2012        5  0.025460  \n",
              "4    21     12  2012        5  0.067867  "
            ]
          },
          "metadata": {
            "tags": []
          },
          "execution_count": 34
        }
      ]
    },
    {
      "cell_type": "code",
      "metadata": {
        "id": "lqXN0qjL54nO",
        "colab_type": "code",
        "outputId": "c0524d66-87fb-4498-8db7-ca0df08ae946",
        "colab": {
          "base_uri": "https://localhost:8080/",
          "height": 34
        }
      },
      "source": [
        "train[train['fare_amount']==0].shape"
      ],
      "execution_count": 35,
      "outputs": [
        {
          "output_type": "execute_result",
          "data": {
            "text/plain": [
              "(0, 13)"
            ]
          },
          "metadata": {
            "tags": []
          },
          "execution_count": 35
        }
      ]
    },
    {
      "cell_type": "code",
      "metadata": {
        "id": "Dvo8y7fCxl9s",
        "colab_type": "code",
        "outputId": "c5f299ca-12a5-4e7c-c078-78307254564e",
        "colab": {
          "base_uri": "https://localhost:8080/",
          "height": 309
        }
      },
      "source": [
        "train.head()"
      ],
      "execution_count": 36,
      "outputs": [
        {
          "output_type": "execute_result",
          "data": {
            "text/html": [
              "<div>\n",
              "<style scoped>\n",
              "    .dataframe tbody tr th:only-of-type {\n",
              "        vertical-align: middle;\n",
              "    }\n",
              "\n",
              "    .dataframe tbody tr th {\n",
              "        vertical-align: top;\n",
              "    }\n",
              "\n",
              "    .dataframe thead th {\n",
              "        text-align: right;\n",
              "    }\n",
              "</style>\n",
              "<table border=\"1\" class=\"dataframe\">\n",
              "  <thead>\n",
              "    <tr style=\"text-align: right;\">\n",
              "      <th></th>\n",
              "      <th>key</th>\n",
              "      <th>fare_amount</th>\n",
              "      <th>pickup_datetime</th>\n",
              "      <th>pickup_longitude</th>\n",
              "      <th>pickup_latitude</th>\n",
              "      <th>dropoff_longitude</th>\n",
              "      <th>dropoff_latitude</th>\n",
              "      <th>passenger_count</th>\n",
              "      <th>hour</th>\n",
              "      <th>month</th>\n",
              "      <th>year</th>\n",
              "      <th>weekday</th>\n",
              "      <th>distance</th>\n",
              "    </tr>\n",
              "  </thead>\n",
              "  <tbody>\n",
              "    <tr>\n",
              "      <th>0</th>\n",
              "      <td>2009-06-15 17:26:21.0000001</td>\n",
              "      <td>4.5</td>\n",
              "      <td>2009-06-15 17:26:00+00:00</td>\n",
              "      <td>-73.844311</td>\n",
              "      <td>40.721319</td>\n",
              "      <td>-73.841610</td>\n",
              "      <td>40.712278</td>\n",
              "      <td>1</td>\n",
              "      <td>17</td>\n",
              "      <td>6</td>\n",
              "      <td>2009</td>\n",
              "      <td>0</td>\n",
              "      <td>0.011742</td>\n",
              "    </tr>\n",
              "    <tr>\n",
              "      <th>1</th>\n",
              "      <td>2010-01-05 16:52:16.0000002</td>\n",
              "      <td>16.9</td>\n",
              "      <td>2010-01-05 16:52:00+00:00</td>\n",
              "      <td>-74.016048</td>\n",
              "      <td>40.711303</td>\n",
              "      <td>-73.979268</td>\n",
              "      <td>40.782004</td>\n",
              "      <td>1</td>\n",
              "      <td>16</td>\n",
              "      <td>1</td>\n",
              "      <td>2010</td>\n",
              "      <td>1</td>\n",
              "      <td>0.107481</td>\n",
              "    </tr>\n",
              "    <tr>\n",
              "      <th>2</th>\n",
              "      <td>2011-08-18 00:35:00.00000049</td>\n",
              "      <td>5.7</td>\n",
              "      <td>2011-08-18 00:35:00+00:00</td>\n",
              "      <td>-73.982738</td>\n",
              "      <td>40.761270</td>\n",
              "      <td>-73.991242</td>\n",
              "      <td>40.750562</td>\n",
              "      <td>2</td>\n",
              "      <td>0</td>\n",
              "      <td>8</td>\n",
              "      <td>2011</td>\n",
              "      <td>3</td>\n",
              "      <td>0.019212</td>\n",
              "    </tr>\n",
              "    <tr>\n",
              "      <th>3</th>\n",
              "      <td>2012-04-21 04:30:42.0000001</td>\n",
              "      <td>7.7</td>\n",
              "      <td>2012-04-21 04:30:00+00:00</td>\n",
              "      <td>-73.987130</td>\n",
              "      <td>40.733143</td>\n",
              "      <td>-73.991567</td>\n",
              "      <td>40.758092</td>\n",
              "      <td>1</td>\n",
              "      <td>4</td>\n",
              "      <td>4</td>\n",
              "      <td>2012</td>\n",
              "      <td>5</td>\n",
              "      <td>0.029386</td>\n",
              "    </tr>\n",
              "    <tr>\n",
              "      <th>4</th>\n",
              "      <td>2010-03-09 07:51:00.000000135</td>\n",
              "      <td>5.3</td>\n",
              "      <td>2010-03-09 07:51:00+00:00</td>\n",
              "      <td>-73.968095</td>\n",
              "      <td>40.768008</td>\n",
              "      <td>-73.956655</td>\n",
              "      <td>40.783762</td>\n",
              "      <td>1</td>\n",
              "      <td>7</td>\n",
              "      <td>3</td>\n",
              "      <td>2010</td>\n",
              "      <td>1</td>\n",
              "      <td>0.027194</td>\n",
              "    </tr>\n",
              "  </tbody>\n",
              "</table>\n",
              "</div>"
            ],
            "text/plain": [
              "                             key  fare_amount           pickup_datetime  \\\n",
              "0    2009-06-15 17:26:21.0000001          4.5 2009-06-15 17:26:00+00:00   \n",
              "1    2010-01-05 16:52:16.0000002         16.9 2010-01-05 16:52:00+00:00   \n",
              "2   2011-08-18 00:35:00.00000049          5.7 2011-08-18 00:35:00+00:00   \n",
              "3    2012-04-21 04:30:42.0000001          7.7 2012-04-21 04:30:00+00:00   \n",
              "4  2010-03-09 07:51:00.000000135          5.3 2010-03-09 07:51:00+00:00   \n",
              "\n",
              "   pickup_longitude  pickup_latitude  dropoff_longitude  dropoff_latitude  \\\n",
              "0        -73.844311        40.721319         -73.841610         40.712278   \n",
              "1        -74.016048        40.711303         -73.979268         40.782004   \n",
              "2        -73.982738        40.761270         -73.991242         40.750562   \n",
              "3        -73.987130        40.733143         -73.991567         40.758092   \n",
              "4        -73.968095        40.768008         -73.956655         40.783762   \n",
              "\n",
              "   passenger_count  hour  month  year  weekday  distance  \n",
              "0                1    17      6  2009        0  0.011742  \n",
              "1                1    16      1  2010        1  0.107481  \n",
              "2                2     0      8  2011        3  0.019212  \n",
              "3                1     4      4  2012        5  0.029386  \n",
              "4                1     7      3  2010        1  0.027194  "
            ]
          },
          "metadata": {
            "tags": []
          },
          "execution_count": 36
        }
      ]
    },
    {
      "cell_type": "code",
      "metadata": {
        "id": "cPBKoY9Atnjc",
        "colab_type": "code",
        "outputId": "61e0699a-bd19-437e-d50e-3e5b214440ea",
        "colab": {
          "base_uri": "https://localhost:8080/",
          "height": 51
        }
      },
      "source": [
        "#train['fare_amount','distance'].corr()\n",
        "np.corrcoef(train['fare_amount'],train['distance'])"
      ],
      "execution_count": 37,
      "outputs": [
        {
          "output_type": "execute_result",
          "data": {
            "text/plain": [
              "array([[1.        , 0.00814699],\n",
              "       [0.00814699, 1.        ]])"
            ]
          },
          "metadata": {
            "tags": []
          },
          "execution_count": 37
        }
      ]
    },
    {
      "cell_type": "code",
      "metadata": {
        "id": "PLVxRv0rwsho",
        "colab_type": "code",
        "outputId": "9b2a0e7a-b62f-4c21-8837-9df3aa03e7df",
        "colab": {
          "base_uri": "https://localhost:8080/",
          "height": 153
        }
      },
      "source": [
        "y = train['fare_amount'].values\n",
        "X = train[['hour','year','distance']].values\n",
        "print(y)\n",
        "print(X)"
      ],
      "execution_count": 38,
      "outputs": [
        {
          "output_type": "stream",
          "text": [
            "[ 4.5 16.9  5.7 ... 10.5 10.   4.9]\n",
            "[[1.7000000e+01 2.0090000e+03 1.1742000e-02]\n",
            " [1.6000000e+01 2.0100000e+03 1.0748100e-01]\n",
            " [0.0000000e+00 2.0110000e+03 1.9212000e-02]\n",
            " ...\n",
            " [2.3000000e+01 2.0140000e+03 1.9536000e-02]\n",
            " [1.9000000e+01 2.0150000e+03 1.4755249e-02]\n",
            " [8.0000000e+00 2.0120000e+03 1.8010000e-02]]\n"
          ],
          "name": "stdout"
        }
      ]
    },
    {
      "cell_type": "code",
      "metadata": {
        "id": "z0lD6hKWtmBx",
        "colab_type": "code",
        "outputId": "1726eb1a-2a6d-4c71-8682-6ed139fda55a",
        "colab": {
          "base_uri": "https://localhost:8080/",
          "height": 111
        }
      },
      "source": [
        "train[train.passenger_count <7][['fare_amount','passenger_count']].corr()"
      ],
      "execution_count": 39,
      "outputs": [
        {
          "output_type": "execute_result",
          "data": {
            "text/html": [
              "<div>\n",
              "<style scoped>\n",
              "    .dataframe tbody tr th:only-of-type {\n",
              "        vertical-align: middle;\n",
              "    }\n",
              "\n",
              "    .dataframe tbody tr th {\n",
              "        vertical-align: top;\n",
              "    }\n",
              "\n",
              "    .dataframe thead th {\n",
              "        text-align: right;\n",
              "    }\n",
              "</style>\n",
              "<table border=\"1\" class=\"dataframe\">\n",
              "  <thead>\n",
              "    <tr style=\"text-align: right;\">\n",
              "      <th></th>\n",
              "      <th>fare_amount</th>\n",
              "      <th>passenger_count</th>\n",
              "    </tr>\n",
              "  </thead>\n",
              "  <tbody>\n",
              "    <tr>\n",
              "      <th>fare_amount</th>\n",
              "      <td>1.000000</td>\n",
              "      <td>0.014059</td>\n",
              "    </tr>\n",
              "    <tr>\n",
              "      <th>passenger_count</th>\n",
              "      <td>0.014059</td>\n",
              "      <td>1.000000</td>\n",
              "    </tr>\n",
              "  </tbody>\n",
              "</table>\n",
              "</div>"
            ],
            "text/plain": [
              "                 fare_amount  passenger_count\n",
              "fare_amount         1.000000         0.014059\n",
              "passenger_count     0.014059         1.000000"
            ]
          },
          "metadata": {
            "tags": []
          },
          "execution_count": 39
        }
      ]
    },
    {
      "cell_type": "code",
      "metadata": {
        "id": "YMMTUPJbHR_T",
        "colab_type": "code",
        "colab": {}
      },
      "source": [
        "X_train,X_test,y_train,y_test = train_test_split(X,y,test_size = 0.1,random_state=42)"
      ],
      "execution_count": 0,
      "outputs": []
    },
    {
      "cell_type": "markdown",
      "metadata": {
        "id": "3VSFHfRBBCdv",
        "colab_type": "text"
      },
      "source": [
        "# Utilizando LinearRegression"
      ]
    },
    {
      "cell_type": "code",
      "metadata": {
        "id": "2yLTZfAuD44P",
        "colab_type": "code",
        "colab": {}
      },
      "source": [
        "reg_lin = LinearRegression()"
      ],
      "execution_count": 0,
      "outputs": []
    },
    {
      "cell_type": "code",
      "metadata": {
        "id": "LzHo9n9LBBh0",
        "colab_type": "code",
        "colab": {}
      },
      "source": [
        "reg_lin.fit(X_train,y_train)"
      ],
      "execution_count": 0,
      "outputs": []
    },
    {
      "cell_type": "code",
      "metadata": {
        "id": "d9DbrIAjBdYS",
        "colab_type": "code",
        "colab": {}
      },
      "source": [
        "y_predic_lin = reg_lin.predict(X_test)"
      ],
      "execution_count": 0,
      "outputs": []
    },
    {
      "cell_type": "code",
      "metadata": {
        "id": "BD0YmmEyBsap",
        "colab_type": "code",
        "colab": {}
      },
      "source": [
        "score_lin = reg_lin.score(X_test,y_test)"
      ],
      "execution_count": 0,
      "outputs": []
    },
    {
      "cell_type": "code",
      "metadata": {
        "id": "2X07S0p_B4gB",
        "colab_type": "code",
        "colab": {}
      },
      "source": [
        "print(str(score_lin*100) +'%')"
      ],
      "execution_count": 0,
      "outputs": []
    },
    {
      "cell_type": "code",
      "metadata": {
        "id": "fAHw9_IHB7CM",
        "colab_type": "code",
        "colab": {}
      },
      "source": [
        ""
      ],
      "execution_count": 0,
      "outputs": []
    },
    {
      "cell_type": "markdown",
      "metadata": {
        "id": "kX2huZI5A6yI",
        "colab_type": "text"
      },
      "source": [
        "# Utilizando SGB "
      ]
    },
    {
      "cell_type": "code",
      "metadata": {
        "id": "Jfe4GEX5ft_m",
        "colab_type": "code",
        "colab": {}
      },
      "source": [
        "SGD_TAXI = linear_model.SGDRegressor()"
      ],
      "execution_count": 0,
      "outputs": []
    },
    {
      "cell_type": "code",
      "metadata": {
        "id": "5Mn45sWaERAj",
        "colab_type": "code",
        "outputId": "9584379e-d027-4a59-dbb1-cd21501316dc",
        "colab": {
          "base_uri": "https://localhost:8080/",
          "height": 173
        }
      },
      "source": [
        "SGD_TAXI.fit(X_train,y_train)"
      ],
      "execution_count": 42,
      "outputs": [
        {
          "output_type": "stream",
          "text": [
            "/usr/local/lib/python3.6/dist-packages/sklearn/linear_model/stochastic_gradient.py:166: FutureWarning: max_iter and tol parameters have been added in SGDRegressor in 0.19. If both are left unset, they default to max_iter=5 and tol=None. If tol is not None, max_iter defaults to max_iter=1000. From 0.21, default max_iter will be 1000, and default tol will be 1e-3.\n",
            "  FutureWarning)\n"
          ],
          "name": "stderr"
        },
        {
          "output_type": "execute_result",
          "data": {
            "text/plain": [
              "SGDRegressor(alpha=0.0001, average=False, early_stopping=False, epsilon=0.1,\n",
              "       eta0=0.01, fit_intercept=True, l1_ratio=0.15,\n",
              "       learning_rate='invscaling', loss='squared_loss', max_iter=None,\n",
              "       n_iter=None, n_iter_no_change=5, penalty='l2', power_t=0.25,\n",
              "       random_state=None, shuffle=True, tol=None, validation_fraction=0.1,\n",
              "       verbose=0, warm_start=False)"
            ]
          },
          "metadata": {
            "tags": []
          },
          "execution_count": 42
        }
      ]
    },
    {
      "cell_type": "code",
      "metadata": {
        "id": "vKUdsruZ6r-a",
        "colab_type": "code",
        "colab": {}
      },
      "source": [
        "y_predic = SGD_TAXI.predict(X_test)"
      ],
      "execution_count": 0,
      "outputs": []
    },
    {
      "cell_type": "code",
      "metadata": {
        "id": "jVhN2XQ27IRY",
        "colab_type": "code",
        "colab": {}
      },
      "source": [
        "score_SGD = SGD_TAXI.score(X_test,y_test)"
      ],
      "execution_count": 0,
      "outputs": []
    },
    {
      "cell_type": "code",
      "metadata": {
        "id": "oC2RBysT9dUV",
        "colab_type": "code",
        "outputId": "8ca78dd9-ea0c-4475-b86c-0685eda5f539",
        "colab": {
          "base_uri": "https://localhost:8080/",
          "height": 34
        }
      },
      "source": [
        "print(str(score_SGD*100)+'%')"
      ],
      "execution_count": 45,
      "outputs": [
        {
          "output_type": "stream",
          "text": [
            "-1.4941006758957803e+28%\n"
          ],
          "name": "stdout"
        }
      ]
    },
    {
      "cell_type": "markdown",
      "metadata": {
        "id": "0kY78g3frmSE",
        "colab_type": "text"
      },
      "source": [
        "# Usando XG Boost Model "
      ]
    },
    {
      "cell_type": "code",
      "metadata": {
        "id": "lvwYgVh0rrcK",
        "colab_type": "code",
        "colab": {}
      },
      "source": [
        "import xgboost as xgb "
      ],
      "execution_count": 0,
      "outputs": []
    },
    {
      "cell_type": "code",
      "metadata": {
        "id": "59nzp9LyrwWL",
        "colab_type": "code",
        "colab": {}
      },
      "source": [
        "params = {\n",
        "   \n",
        "    'max_depth': 7,\n",
        "    'gamma' :0,\n",
        "    'eta':.03, \n",
        "    'subsample': 1,\n",
        "    'colsample_bytree': 0.9, \n",
        "    'objective':'reg:linear',\n",
        "    'eval_metric':'rmse',\n",
        "    'silent': 0\n",
        "}"
      ],
      "execution_count": 0,
      "outputs": []
    },
    {
      "cell_type": "code",
      "metadata": {
        "id": "amxxmFzErwfp",
        "colab_type": "code",
        "outputId": "0405fdf2-cdb5-490d-8f24-4fbf7722672c",
        "colab": {
          "base_uri": "https://localhost:8080/",
          "height": 3726
        }
      },
      "source": [
        "def XGBmodel(X_train,X_test,y_train,y_test,params):\n",
        "    matrix_train = xgb.DMatrix(X_train,label=y_train)\n",
        "    matrix_test = xgb.DMatrix(X_test,label=y_test)\n",
        "    model=xgb.train(params=params,\n",
        "                    dtrain=matrix_train,num_boost_round=5000, \n",
        "                    early_stopping_rounds=10,evals=[(matrix_test,'test')])\n",
        "    return model\n",
        "\n",
        "model = XGBmodel(X_train,X_test,y_train,y_test,params)"
      ],
      "execution_count": 0,
      "outputs": [
        {
          "output_type": "stream",
          "text": [
            "[04:54:09] WARNING: /workspace/src/learner.cc:685: Tree method is automatically selected to be 'approx' for faster speed. To use old behavior (exact greedy algorithm on single machine), set tree_method to 'exact'.\n",
            "[0]\ttest-rmse:14.0797\n",
            "Will train until test-rmse hasn't improved in 10 rounds.\n",
            "[1]\ttest-rmse:13.8441\n",
            "[2]\ttest-rmse:13.6164\n",
            "[3]\ttest-rmse:13.3996\n",
            "[4]\ttest-rmse:13.0542\n",
            "[5]\ttest-rmse:12.7225\n",
            "[6]\ttest-rmse:12.4027\n",
            "[7]\ttest-rmse:12.0913\n",
            "[8]\ttest-rmse:11.791\n",
            "[9]\ttest-rmse:11.5013\n",
            "[10]\ttest-rmse:11.3335\n",
            "[11]\ttest-rmse:11.0619\n",
            "[12]\ttest-rmse:10.8\n",
            "[13]\ttest-rmse:10.6511\n",
            "[14]\ttest-rmse:10.4022\n",
            "[15]\ttest-rmse:10.1624\n",
            "[16]\ttest-rmse:9.9317\n",
            "[17]\ttest-rmse:9.80486\n",
            "[18]\ttest-rmse:9.58734\n",
            "[19]\ttest-rmse:9.4711\n",
            "[20]\ttest-rmse:9.26755\n",
            "[21]\ttest-rmse:9.161\n",
            "[22]\ttest-rmse:8.96824\n",
            "[23]\ttest-rmse:8.87074\n",
            "[24]\ttest-rmse:8.77806\n",
            "[25]\ttest-rmse:8.60136\n",
            "[26]\ttest-rmse:8.43057\n",
            "[27]\ttest-rmse:8.34933\n",
            "[28]\ttest-rmse:8.18875\n",
            "[29]\ttest-rmse:8.03467\n",
            "[30]\ttest-rmse:7.88758\n",
            "[31]\ttest-rmse:7.81955\n",
            "[32]\ttest-rmse:7.68141\n",
            "[33]\ttest-rmse:7.54836\n",
            "[34]\ttest-rmse:7.42166\n",
            "[35]\ttest-rmse:7.29971\n",
            "[36]\ttest-rmse:7.18315\n",
            "[37]\ttest-rmse:7.07217\n",
            "[38]\ttest-rmse:7.02254\n",
            "[39]\ttest-rmse:6.91868\n",
            "[40]\ttest-rmse:6.81888\n",
            "[41]\ttest-rmse:6.77598\n",
            "[42]\ttest-rmse:6.68278\n",
            "[43]\ttest-rmse:6.64401\n",
            "[44]\ttest-rmse:6.55723\n",
            "[45]\ttest-rmse:6.47408\n",
            "[46]\ttest-rmse:6.39489\n",
            "[47]\ttest-rmse:6.36313\n",
            "[48]\ttest-rmse:6.28923\n",
            "[49]\ttest-rmse:6.21896\n",
            "[50]\ttest-rmse:6.15195\n",
            "[51]\ttest-rmse:6.08828\n",
            "[52]\ttest-rmse:6.06367\n",
            "[53]\ttest-rmse:6.00435\n",
            "[54]\ttest-rmse:5.948\n",
            "[55]\ttest-rmse:5.92699\n",
            "[56]\ttest-rmse:5.87436\n",
            "[57]\ttest-rmse:5.8245\n",
            "[58]\ttest-rmse:5.77719\n",
            "[59]\ttest-rmse:5.73227\n",
            "[60]\ttest-rmse:5.68981\n",
            "[61]\ttest-rmse:5.67454\n",
            "[62]\ttest-rmse:5.63502\n",
            "[63]\ttest-rmse:5.62133\n",
            "[64]\ttest-rmse:5.60843\n",
            "[65]\ttest-rmse:5.57239\n",
            "[66]\ttest-rmse:5.53829\n",
            "[67]\ttest-rmse:5.506\n",
            "[68]\ttest-rmse:5.4956\n",
            "[69]\ttest-rmse:5.48586\n",
            "[70]\ttest-rmse:5.47665\n",
            "[71]\ttest-rmse:5.44761\n",
            "[72]\ttest-rmse:5.4202\n",
            "[73]\ttest-rmse:5.39353\n",
            "[74]\ttest-rmse:5.36897\n",
            "[75]\ttest-rmse:5.34579\n",
            "[76]\ttest-rmse:5.33917\n",
            "[77]\ttest-rmse:5.31763\n",
            "[78]\ttest-rmse:5.29727\n",
            "[79]\ttest-rmse:5.29163\n",
            "[80]\ttest-rmse:5.28641\n",
            "[81]\ttest-rmse:5.28142\n",
            "[82]\ttest-rmse:5.26224\n",
            "[83]\ttest-rmse:5.24412\n",
            "[84]\ttest-rmse:5.23995\n",
            "[85]\ttest-rmse:5.22371\n",
            "[86]\ttest-rmse:5.22001\n",
            "[87]\ttest-rmse:5.21651\n",
            "[88]\ttest-rmse:5.20157\n",
            "[89]\ttest-rmse:5.18748\n",
            "[90]\ttest-rmse:5.17347\n",
            "[91]\ttest-rmse:5.17069\n",
            "[92]\ttest-rmse:5.15829\n",
            "[93]\ttest-rmse:5.15578\n",
            "[94]\ttest-rmse:5.14353\n",
            "[95]\ttest-rmse:5.13262\n",
            "[96]\ttest-rmse:5.12169\n",
            "[97]\ttest-rmse:5.11138\n",
            "[98]\ttest-rmse:5.10165\n",
            "[99]\ttest-rmse:5.09245\n",
            "[100]\ttest-rmse:5.08382\n",
            "[101]\ttest-rmse:5.08224\n",
            "[102]\ttest-rmse:5.07455\n",
            "[103]\ttest-rmse:5.06694\n",
            "[104]\ttest-rmse:5.0656\n",
            "[105]\ttest-rmse:5.05846\n",
            "[106]\ttest-rmse:5.05729\n",
            "[107]\ttest-rmse:5.05067\n",
            "[108]\ttest-rmse:5.04963\n",
            "[109]\ttest-rmse:5.04866\n",
            "[110]\ttest-rmse:5.04275\n",
            "[111]\ttest-rmse:5.04187\n",
            "[112]\ttest-rmse:5.03636\n",
            "[113]\ttest-rmse:5.03559\n",
            "[114]\ttest-rmse:5.03017\n",
            "[115]\ttest-rmse:5.02947\n",
            "[116]\ttest-rmse:5.02466\n",
            "[117]\ttest-rmse:5.02014\n",
            "[118]\ttest-rmse:5.01953\n",
            "[119]\ttest-rmse:5.01503\n",
            "[120]\ttest-rmse:5.01077\n",
            "[121]\ttest-rmse:5.00676\n",
            "[122]\ttest-rmse:5.00316\n",
            "[123]\ttest-rmse:4.9996\n",
            "[124]\ttest-rmse:4.99642\n",
            "[125]\ttest-rmse:4.99322\n",
            "[126]\ttest-rmse:4.99037\n",
            "[127]\ttest-rmse:4.99002\n",
            "[128]\ttest-rmse:4.98735\n",
            "[129]\ttest-rmse:4.98486\n",
            "[130]\ttest-rmse:4.98455\n",
            "[131]\ttest-rmse:4.98426\n",
            "[132]\ttest-rmse:4.98171\n",
            "[133]\ttest-rmse:4.9793\n",
            "[134]\ttest-rmse:4.97707\n",
            "[135]\ttest-rmse:4.97495\n",
            "[136]\ttest-rmse:4.97309\n",
            "[137]\ttest-rmse:4.97286\n",
            "[138]\ttest-rmse:4.9711\n",
            "[139]\ttest-rmse:4.9693\n",
            "[140]\ttest-rmse:4.96776\n",
            "[141]\ttest-rmse:4.96616\n",
            "[142]\ttest-rmse:4.966\n",
            "[143]\ttest-rmse:4.96462\n",
            "[144]\ttest-rmse:4.96321\n",
            "[145]\ttest-rmse:4.96188\n",
            "[146]\ttest-rmse:4.96058\n",
            "[147]\ttest-rmse:4.95936\n",
            "[148]\ttest-rmse:4.95824\n",
            "[149]\ttest-rmse:4.9581\n",
            "[150]\ttest-rmse:4.95797\n",
            "[151]\ttest-rmse:4.957\n",
            "[152]\ttest-rmse:4.95606\n",
            "[153]\ttest-rmse:4.9552\n",
            "[154]\ttest-rmse:4.9551\n",
            "[155]\ttest-rmse:4.95498\n",
            "[156]\ttest-rmse:4.95409\n",
            "[157]\ttest-rmse:4.95332\n",
            "[158]\ttest-rmse:4.9525\n",
            "[159]\ttest-rmse:4.95242\n",
            "[160]\ttest-rmse:4.95167\n",
            "[161]\ttest-rmse:4.951\n",
            "[162]\ttest-rmse:4.95038\n",
            "[163]\ttest-rmse:4.94974\n",
            "[164]\ttest-rmse:4.9492\n",
            "[165]\ttest-rmse:4.94868\n",
            "[166]\ttest-rmse:4.94861\n",
            "[167]\ttest-rmse:4.94854\n",
            "[168]\ttest-rmse:4.94848\n",
            "[169]\ttest-rmse:4.948\n",
            "[170]\ttest-rmse:4.94744\n",
            "[171]\ttest-rmse:4.94702\n",
            "[172]\ttest-rmse:4.94652\n",
            "[173]\ttest-rmse:4.94606\n",
            "[174]\ttest-rmse:4.94564\n",
            "[175]\ttest-rmse:4.94559\n",
            "[176]\ttest-rmse:4.94556\n",
            "[177]\ttest-rmse:4.94513\n",
            "[178]\ttest-rmse:4.94473\n",
            "[179]\ttest-rmse:4.94471\n",
            "[180]\ttest-rmse:4.9444\n",
            "[181]\ttest-rmse:4.94409\n",
            "[182]\ttest-rmse:4.94405\n",
            "[183]\ttest-rmse:4.94401\n",
            "[184]\ttest-rmse:4.94372\n",
            "[185]\ttest-rmse:4.94369\n",
            "[186]\ttest-rmse:4.94366\n",
            "[187]\ttest-rmse:4.94362\n",
            "[188]\ttest-rmse:4.94359\n",
            "[189]\ttest-rmse:4.94332\n",
            "[190]\ttest-rmse:4.94301\n",
            "[191]\ttest-rmse:4.94274\n",
            "[192]\ttest-rmse:4.94247\n",
            "[193]\ttest-rmse:4.94221\n",
            "[194]\ttest-rmse:4.94198\n",
            "[195]\ttest-rmse:4.94196\n",
            "[196]\ttest-rmse:4.94194\n",
            "[197]\ttest-rmse:4.94171\n",
            "[198]\ttest-rmse:4.94151\n",
            "[199]\ttest-rmse:4.94132\n",
            "[200]\ttest-rmse:4.9413\n",
            "[201]\ttest-rmse:4.94128\n",
            "[202]\ttest-rmse:4.94109\n",
            "[203]\ttest-rmse:4.94093\n",
            "[204]\ttest-rmse:4.9409\n",
            "[205]\ttest-rmse:4.94088\n",
            "[206]\ttest-rmse:4.94071\n",
            "[207]\ttest-rmse:4.94069\n",
            "[208]\ttest-rmse:4.94052\n",
            "[209]\ttest-rmse:4.9405\n",
            "[210]\ttest-rmse:4.94037\n",
            "[211]\ttest-rmse:4.94022\n",
            "[212]\ttest-rmse:4.94021\n",
            "[213]\ttest-rmse:4.94007\n",
            "[214]\ttest-rmse:4.93995\n"
          ],
          "name": "stdout"
        }
      ]
    },
    {
      "cell_type": "code",
      "metadata": {
        "id": "Q63xw4NtxgBe",
        "colab_type": "code",
        "colab": {}
      },
      "source": [
        "test = pd.read_csv('test.csv')\n",
        "test = test.drop(['key','pickup_datetime'],axis =1 ).copy()"
      ],
      "execution_count": 0,
      "outputs": []
    },
    {
      "cell_type": "code",
      "metadata": {
        "id": "wrISC1rXrwoT",
        "colab_type": "code",
        "colab": {}
      },
      "source": [
        "\n",
        "prediction = model.predict(xgb.DMatrix(test), ntree_limit = model.best_ntree_limit).tolist()"
      ],
      "execution_count": 0,
      "outputs": []
    }
  ]
}